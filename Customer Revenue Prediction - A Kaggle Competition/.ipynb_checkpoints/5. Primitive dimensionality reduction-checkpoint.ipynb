{
 "cells": [
  {
   "cell_type": "code",
   "execution_count": 1,
   "metadata": {
    "collapsed": true
   },
   "outputs": [],
   "source": [
    "import pandas as pd\n",
    "import numpy as np\n",
    "import warnings\n",
    "from collections import Counter\n",
    "warnings.filterwarnings('ignore')"
   ]
  },
  {
   "cell_type": "code",
   "execution_count": 2,
   "metadata": {
    "collapsed": true
   },
   "outputs": [],
   "source": [
    "train_url = \"train4.csv\"\n",
    "train = pd.read_csv(train_url)\n",
    "test_url = \"test4.csv\"\n",
    "test = pd.read_csv(test_url)"
   ]
  },
  {
   "cell_type": "markdown",
   "metadata": {},
   "source": [
    "--------------------------------------"
   ]
  },
  {
   "cell_type": "markdown",
   "metadata": {},
   "source": [
    "# <font color='red'>Numeric and Categorical columns"
   ]
  },
  {
   "cell_type": "code",
   "execution_count": 3,
   "metadata": {
    "collapsed": false
   },
   "outputs": [
    {
     "name": "stdout",
     "output_type": "stream",
     "text": [
      "numeric columns:\n",
      "['isMobile', 'hits', 'pageviews', 'bounces', 'newVisits', 'transactionRevenue', 'isTrueDirect', 'isVideoAd', 'visitNumber', 'year', 'month', 'day']\n",
      "\n",
      "categorical columns:\n",
      "['browser', 'operatingSystem', 'deviceCategory', 'continent', 'subContinent', 'country', 'region', 'metro', 'city', 'campaign', 'source', 'medium', 'channelGrouping', 'sessionId', 'weekday', 'partOfDay', 'domain']\n"
     ]
    }
   ],
   "source": [
    "numerics = train._get_numeric_data().columns.values.tolist()\n",
    "categoricals = [col for col in train.columns.values if col not in numerics]\n",
    "\n",
    "print('numeric columns:')\n",
    "print(numerics)\n",
    "print()\n",
    "print('categorical columns:')\n",
    "print(categoricals)"
   ]
  },
  {
   "cell_type": "markdown",
   "metadata": {},
   "source": [
    "### <font color='blue'> Removal of less-informative columns"
   ]
  },
  {
   "cell_type": "markdown",
   "metadata": {},
   "source": [
    "In order to prevent curse of dimensionality, we can remove columns with a large number of categories, but low information:"
   ]
  },
  {
   "cell_type": "code",
   "execution_count": 4,
   "metadata": {
    "collapsed": true
   },
   "outputs": [],
   "source": [
    "train.drop(['continent','region','metro'], axis=1, inplace=True)\n",
    "test.drop(['continent','region','metro'], axis=1, inplace=True)\n",
    "categoricals.remove('continent')\n",
    "categoricals.remove('region')\n",
    "categoricals.remove('metro')"
   ]
  },
  {
   "cell_type": "markdown",
   "metadata": {},
   "source": [
    "### <font color='blue'> Replacing categories with frequencies"
   ]
  },
  {
   "cell_type": "markdown",
   "metadata": {},
   "source": [
    "As some columns contain values occured only in one of train or test sets, we set them to _others_: (E.g. _**country**_, _**source**_, _**city**_ and ...)"
   ]
  },
  {
   "cell_type": "code",
   "execution_count": 5,
   "metadata": {
    "collapsed": false
   },
   "outputs": [
    {
     "name": "stdout",
     "output_type": "stream",
     "text": [
      "browser\n",
      "operatingSystem\n",
      "deviceCategory\n",
      "subContinent\n",
      "country\n",
      "city\n",
      "campaign\n",
      "source\n",
      "medium\n",
      "channelGrouping\n",
      "weekday\n",
      "partOfDay\n",
      "domain\n"
     ]
    }
   ],
   "source": [
    "categoricals.remove('sessionId')\n",
    "for col in categoricals:\n",
    "    print(col)\n",
    "    for val in train[col].unique().tolist():\n",
    "        if val not in test[col].unique().tolist():\n",
    "            train[col][train[col] == val] = 'others'\n",
    "\n",
    "    for val in test[col].unique().tolist():\n",
    "        if val not in train[col].unique().tolist():\n",
    "            test[col][test[col] == val] = 'others'"
   ]
  },
  {
   "cell_type": "markdown",
   "metadata": {},
   "source": [
    "All categorical columns can be converted to integer by replacing their category with the frequency of the category: <font color='green'> __(WITHOUT THIS, WE WILL GET A MEMORY ERROR DURING PCA and XGBoost)__"
   ]
  },
  {
   "cell_type": "code",
   "execution_count": 6,
   "metadata": {
    "collapsed": false
   },
   "outputs": [
    {
     "name": "stdout",
     "output_type": "stream",
     "text": [
      "browser\n",
      "operatingSystem\n",
      "deviceCategory\n",
      "subContinent\n",
      "country\n",
      "city\n",
      "campaign\n",
      "source\n",
      "medium\n",
      "channelGrouping\n",
      "weekday\n",
      "partOfDay\n",
      "domain\n"
     ]
    }
   ],
   "source": [
    "for col in categoricals:\n",
    "    print(col)\n",
    "    train['temp'] = float('NaN')\n",
    "    test['temp'] = float('NaN')\n",
    "    for value in train[col].unique().tolist():\n",
    "        train['temp'][train[col] == value] = Counter(train[col].tolist())[value]\n",
    "        test['temp'][test[col] == value] = Counter(test[col].tolist())[value]\n",
    "    \n",
    "    train[col] = train['temp']\n",
    "    test[col] = test['temp']\n",
    "    train.drop('temp',axis=1, inplace=True)\n",
    "    test.drop('temp',axis=1, inplace=True)"
   ]
  },
  {
   "cell_type": "markdown",
   "metadata": {},
   "source": [
    "------------------------------------"
   ]
  },
  {
   "cell_type": "markdown",
   "metadata": {},
   "source": [
    "# <font color='red'> Writing the final dataframe to .csv"
   ]
  },
  {
   "cell_type": "code",
   "execution_count": 7,
   "metadata": {
    "collapsed": true
   },
   "outputs": [],
   "source": [
    "train.to_csv('train5.csv', index=False, encoding='utf-8')\n",
    "test.to_csv('test5.csv', index=False, encoding='utf-8')"
   ]
  }
 ],
 "metadata": {
  "kernelspec": {
   "display_name": "Python 3",
   "language": "python",
   "name": "python3"
  },
  "language_info": {
   "codemirror_mode": {
    "name": "ipython",
    "version": 3
   },
   "file_extension": ".py",
   "mimetype": "text/x-python",
   "name": "python",
   "nbconvert_exporter": "python",
   "pygments_lexer": "ipython3",
   "version": "3.6.7"
  }
 },
 "nbformat": 4,
 "nbformat_minor": 2
}
