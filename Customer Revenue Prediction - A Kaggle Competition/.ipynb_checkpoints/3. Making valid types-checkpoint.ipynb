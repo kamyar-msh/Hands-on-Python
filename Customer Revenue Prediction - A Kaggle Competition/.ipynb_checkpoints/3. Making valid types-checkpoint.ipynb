{
 "cells": [
  {
   "cell_type": "code",
   "execution_count": 8,
   "metadata": {
    "collapsed": true
   },
   "outputs": [],
   "source": [
    "import pandas as pd\n",
    "import numpy as np\n",
    "import warnings\n",
    "warnings.filterwarnings('ignore')"
   ]
  },
  {
   "cell_type": "code",
   "execution_count": 9,
   "metadata": {
    "collapsed": true
   },
   "outputs": [],
   "source": [
    "train_url = \"train2.csv\"\n",
    "train = pd.read_csv(train_url)\n",
    "test_url = \"test2.csv\"\n",
    "test = pd.read_csv(test_url)"
   ]
  },
  {
   "cell_type": "markdown",
   "metadata": {},
   "source": [
    "# <font color='red'>Numeric and Categorical columns"
   ]
  },
  {
   "cell_type": "code",
   "execution_count": 10,
   "metadata": {
    "collapsed": false
   },
   "outputs": [
    {
     "name": "stdout",
     "output_type": "stream",
     "text": [
      "numeric columns:\n",
      "['isMobile', 'hits', 'pageviews', 'bounces', 'newVisits', 'transactionRevenue', 'isTrueDirect', 'isVideoAd', 'date', 'visitNumber', 'visitStartTime']\n",
      "\n",
      "categorical columns:\n",
      "['browser', 'operatingSystem', 'deviceCategory', 'continent', 'subContinent', 'country', 'region', 'metro', 'city', 'networkDomain', 'campaign', 'source', 'medium', 'keyword', 'referralPath', 'channelGrouping', 'sessionId']\n"
     ]
    }
   ],
   "source": [
    "numerics = train._get_numeric_data().columns.values.tolist()\n",
    "categoricals = [col for col in train.columns.values if col not in numerics]\n",
    "\n",
    "print('numeric columns:')\n",
    "print(numerics)\n",
    "print()\n",
    "print('categorical columns:')\n",
    "print(categoricals)"
   ]
  },
  {
   "cell_type": "markdown",
   "metadata": {},
   "source": [
    "# <font color='red'>Making valid types for boolean variables"
   ]
  },
  {
   "cell_type": "markdown",
   "metadata": {},
   "source": [
    "Before going further, we need to check if all columns are correctly assigned to their categories based on their types:"
   ]
  },
  {
   "cell_type": "code",
   "execution_count": 11,
   "metadata": {
    "collapsed": false
   },
   "outputs": [
    {
     "name": "stdout",
     "output_type": "stream",
     "text": [
      "browser\n",
      "count     902755\n",
      "unique        54\n",
      "top       Chrome\n",
      "freq      619699\n",
      "Name: browser, dtype: object\n",
      "\n",
      "operatingSystem\n",
      "count      902755\n",
      "unique         20\n",
      "top       Windows\n",
      "freq       349711\n",
      "Name: operatingSystem, dtype: object\n",
      "\n",
      "deviceCategory\n",
      "count      902755\n",
      "unique          3\n",
      "top       desktop\n",
      "freq       663814\n",
      "Name: deviceCategory, dtype: object\n",
      "\n",
      "continent\n",
      "count       902755\n",
      "unique           6\n",
      "top       Americas\n",
      "freq        449996\n",
      "Name: continent, dtype: object\n",
      "\n",
      "subContinent\n",
      "count               902755\n",
      "unique                  23\n",
      "top       Northern America\n",
      "freq                390295\n",
      "Name: subContinent, dtype: object\n",
      "\n",
      "country\n",
      "count            902755\n",
      "unique              222\n",
      "top       United States\n",
      "freq             364401\n",
      "Name: country, dtype: object\n",
      "\n",
      "region\n",
      "count                            902755\n",
      "unique                              376\n",
      "top       not available in demo dataset\n",
      "freq                             507780\n",
      "Name: region, dtype: object\n",
      "\n",
      "metro\n",
      "count                            902755\n",
      "unique                               94\n",
      "top       not available in demo dataset\n",
      "freq                             507780\n",
      "Name: metro, dtype: object\n",
      "\n",
      "city\n",
      "count                            902755\n",
      "unique                              649\n",
      "top       not available in demo dataset\n",
      "freq                             507780\n",
      "Name: city, dtype: object\n",
      "\n",
      "networkDomain\n",
      "count        902755\n",
      "unique        28064\n",
      "top       (not set)\n",
      "freq         244647\n",
      "Name: networkDomain, dtype: object\n",
      "\n",
      "campaign\n",
      "count        902755\n",
      "unique           10\n",
      "top       (not set)\n",
      "freq         864514\n",
      "Name: campaign, dtype: object\n",
      "\n",
      "source\n",
      "count     902755\n",
      "unique       380\n",
      "top       google\n",
      "freq      400340\n",
      "Name: source, dtype: object\n",
      "\n",
      "medium\n",
      "count      902755\n",
      "unique          7\n",
      "top       organic\n",
      "freq       381137\n",
      "Name: medium, dtype: object\n",
      "\n",
      "keyword\n",
      "count             902755\n",
      "unique              3658\n",
      "top       (not provided)\n",
      "freq              868436\n",
      "Name: keyword, dtype: object\n",
      "\n",
      "referralPath\n",
      "count     902755\n",
      "unique      1475\n",
      "top            /\n",
      "freq      647483\n",
      "Name: referralPath, dtype: object\n",
      "\n",
      "channelGrouping\n",
      "count             902755\n",
      "unique                 8\n",
      "top       Organic Search\n",
      "freq              381137\n",
      "Name: channelGrouping, dtype: object\n",
      "\n",
      "sessionId\n",
      "count                             902755\n",
      "unique                            902755\n",
      "top       5638719316692852313_1473579183\n",
      "freq                                   1\n",
      "Name: sessionId, dtype: object\n",
      "\n"
     ]
    }
   ],
   "source": [
    "for col in categoricals:\n",
    "    print(col)\n",
    "    print(train[col].describe())\n",
    "    print()"
   ]
  },
  {
   "cell_type": "markdown",
   "metadata": {},
   "source": [
    "For categoricals, everything looks fine so far. <font size=\"+2\">&#128077;"
   ]
  },
  {
   "cell_type": "markdown",
   "metadata": {},
   "source": [
    "Now we will have the same procedure this time for numerics:"
   ]
  },
  {
   "cell_type": "code",
   "execution_count": 12,
   "metadata": {
    "collapsed": false
   },
   "outputs": [
    {
     "name": "stdout",
     "output_type": "stream",
     "text": [
      "isMobile\n",
      "count     902755\n",
      "unique         2\n",
      "top        False\n",
      "freq      663866\n",
      "Name: isMobile, dtype: object\n",
      "\n",
      "hits\n",
      "count    902755.000000\n",
      "mean          4.591720\n",
      "std           9.634079\n",
      "min           1.000000\n",
      "25%           1.000000\n",
      "50%           2.000000\n",
      "75%           4.000000\n",
      "max         500.000000\n",
      "Name: hits, dtype: float64\n",
      "\n",
      "pageviews\n",
      "count    902755.000000\n",
      "mean          3.846008\n",
      "std           7.019751\n",
      "min           1.000000\n",
      "25%           1.000000\n",
      "50%           1.000000\n",
      "75%           4.000000\n",
      "max         469.000000\n",
      "Name: pageviews, dtype: float64\n",
      "\n",
      "bounces\n",
      "count    902755.000000\n",
      "mean          0.498892\n",
      "std           0.499999\n",
      "min           0.000000\n",
      "25%           0.000000\n",
      "50%           0.000000\n",
      "75%           1.000000\n",
      "max           1.000000\n",
      "Name: bounces, dtype: float64\n",
      "\n",
      "newVisits\n",
      "count    902755.000000\n",
      "mean          0.778101\n",
      "std           0.415523\n",
      "min           0.000000\n",
      "25%           1.000000\n",
      "50%           1.000000\n",
      "75%           1.000000\n",
      "max           1.000000\n",
      "Name: newVisits, dtype: float64\n",
      "\n",
      "transactionRevenue\n",
      "count    9.027550e+05\n",
      "mean     1.703551e+06\n",
      "std      5.279965e+07\n",
      "min      0.000000e+00\n",
      "25%      0.000000e+00\n",
      "50%      0.000000e+00\n",
      "75%      0.000000e+00\n",
      "max      2.312950e+10\n",
      "Name: transactionRevenue, dtype: float64\n",
      "\n",
      "isTrueDirect\n",
      "count     902755\n",
      "unique         2\n",
      "top        False\n",
      "freq      629094\n",
      "Name: isTrueDirect, dtype: object\n",
      "\n",
      "isVideoAd\n",
      "count     902755\n",
      "unique         2\n",
      "top         True\n",
      "freq      881328\n",
      "Name: isVideoAd, dtype: object\n",
      "\n",
      "date\n",
      "count    9.027550e+05\n",
      "mean     2.016588e+07\n",
      "std      4.697683e+03\n",
      "min      2.016080e+07\n",
      "25%      2.016103e+07\n",
      "50%      2.017011e+07\n",
      "75%      2.017042e+07\n",
      "max      2.017080e+07\n",
      "Name: date, dtype: float64\n",
      "\n",
      "visitNumber\n",
      "count    902755.000000\n",
      "mean          2.265059\n",
      "std           9.287168\n",
      "min           1.000000\n",
      "25%           1.000000\n",
      "50%           1.000000\n",
      "75%           1.000000\n",
      "max         395.000000\n",
      "Name: visitNumber, dtype: float64\n",
      "\n",
      "visitStartTime\n",
      "count    9.027550e+05\n",
      "mean     1.485006e+09\n",
      "std      9.021361e+06\n",
      "min      1.470035e+09\n",
      "25%      1.477562e+09\n",
      "50%      1.483945e+09\n",
      "75%      1.492755e+09\n",
      "max      1.501657e+09\n",
      "Name: visitStartTime, dtype: float64\n",
      "\n"
     ]
    }
   ],
   "source": [
    "for col in numerics:\n",
    "    print(col)\n",
    "    print(train[col].describe())\n",
    "    print()"
   ]
  },
  {
   "cell_type": "markdown",
   "metadata": {},
   "source": [
    "Some of the variables in numerics are still boolean and must be converted to integer:"
   ]
  },
  {
   "cell_type": "code",
   "execution_count": 13,
   "metadata": {
    "collapsed": true
   },
   "outputs": [],
   "source": [
    "train[\"isMobile\"][train[\"isMobile\"] == True] = 1\n",
    "train[\"isMobile\"][train[\"isMobile\"] == False] = 0\n",
    "train[\"isVideoAd\"][train[\"isVideoAd\"] == True] = 1\n",
    "train[\"isVideoAd\"][train[\"isVideoAd\"] == False] = 0\n",
    "train[\"isTrueDirect\"][train[\"isTrueDirect\"] == True] = 1\n",
    "train[\"isTrueDirect\"][train[\"isTrueDirect\"] == False] = 0\n",
    "\n",
    "test[\"isMobile\"][test[\"isMobile\"] == True] = 1\n",
    "test[\"isMobile\"][test[\"isMobile\"] == False] = 0\n",
    "test[\"isVideoAd\"][test[\"isVideoAd\"] == True] = 1\n",
    "test[\"isVideoAd\"][test[\"isVideoAd\"] == False] = 0\n",
    "test[\"isTrueDirect\"][test[\"isTrueDirect\"] == True] = 1\n",
    "test[\"isTrueDirect\"][test[\"isTrueDirect\"] == False] = 0"
   ]
  },
  {
   "cell_type": "markdown",
   "metadata": {},
   "source": [
    "-------------------------------------------------------"
   ]
  },
  {
   "cell_type": "markdown",
   "metadata": {},
   "source": [
    "# <font color='red'>Dealing with times and dates"
   ]
  },
  {
   "cell_type": "markdown",
   "metadata": {},
   "source": [
    "Columns *date* and *visitStartTime* ,which represent date and time, must be handled somehow."
   ]
  },
  {
   "cell_type": "markdown",
   "metadata": {},
   "source": [
    "### <font color='blue'>Date"
   ]
  },
  {
   "cell_type": "markdown",
   "metadata": {},
   "source": [
    "At first we split *date* into day, month and year:"
   ]
  },
  {
   "cell_type": "code",
   "execution_count": 14,
   "metadata": {
    "collapsed": true
   },
   "outputs": [],
   "source": [
    "train[\"date\"] = train[\"date\"].apply(str)\n",
    "train[\"year\"] = train[\"date\"].str.slice(0, 4)\n",
    "train[\"month\"] = train[\"date\"].str.slice(4, 6)\n",
    "train[\"day\"] = train[\"date\"].str.slice(6, 8)\n",
    "\n",
    "test[\"date\"] = test[\"date\"].apply(str)\n",
    "test[\"year\"] = test[\"date\"].str.slice(0, 4)\n",
    "test[\"month\"] = test[\"date\"].str.slice(4, 6)\n",
    "test[\"day\"] = test[\"date\"].str.slice(6, 8)"
   ]
  },
  {
   "cell_type": "markdown",
   "metadata": {},
   "source": [
    "Now we can remove *date* from the dataset:"
   ]
  },
  {
   "cell_type": "code",
   "execution_count": 15,
   "metadata": {
    "collapsed": true
   },
   "outputs": [],
   "source": [
    "train.drop('date',axis=1, inplace=True)\n",
    "test.drop('date',axis=1, inplace=True)\n",
    "\n",
    "numerics.remove('date')\n",
    "categoricals.append('year')\n",
    "categoricals.append('month')\n",
    "categoricals.append('day')"
   ]
  },
  {
   "cell_type": "markdown",
   "metadata": {},
   "source": [
    "### <font color='blue'>Time "
   ]
  },
  {
   "cell_type": "markdown",
   "metadata": {},
   "source": [
    "Now we are going to deal with *visitStartTime*. This variable will be splitted into two variables:\n",
    "<ol>\n",
    "1) *weekday*, which indicates the day of the week<br>\n",
    "2) *startHour*, which indicates the hour, at which the transaction was started\n",
    "</ol>"
   ]
  },
  {
   "cell_type": "markdown",
   "metadata": {},
   "source": [
    "The next cell is only to import the date library and show how it works:"
   ]
  },
  {
   "cell_type": "code",
   "execution_count": 16,
   "metadata": {
    "collapsed": false
   },
   "outputs": [
    {
     "name": "stdout",
     "output_type": "stream",
     "text": [
      "2016-09-02 15:33:05\n"
     ]
    }
   ],
   "source": [
    "from datetime import datetime\n",
    "print(datetime.utcfromtimestamp(train[\"visitStartTime\"][0]).strftime('%Y-%m-%d %H:%M:%S'))"
   ]
  },
  {
   "cell_type": "markdown",
   "metadata": {},
   "source": [
    "Now the weekday is extracted from *visitStartTime* and attached to the dataframe:"
   ]
  },
  {
   "cell_type": "code",
   "execution_count": 17,
   "metadata": {
    "collapsed": true
   },
   "outputs": [],
   "source": [
    "train[\"weekday\"] = train[\"visitStartTime\"].apply(datetime.utcfromtimestamp).apply(datetime.weekday)\n",
    "test[\"weekday\"] = test[\"visitStartTime\"].apply(datetime.utcfromtimestamp).apply(datetime.weekday)"
   ]
  },
  {
   "cell_type": "markdown",
   "metadata": {},
   "source": [
    "And the hour:"
   ]
  },
  {
   "cell_type": "code",
   "execution_count": 19,
   "metadata": {
    "collapsed": true
   },
   "outputs": [],
   "source": [
    "train[\"startHour\"] = train[\"visitStartTime\"].apply(datetime.utcfromtimestamp).dt.hour\n",
    "test[\"startHour\"] = test[\"visitStartTime\"].apply(datetime.utcfromtimestamp).dt.hour"
   ]
  },
  {
   "cell_type": "markdown",
   "metadata": {},
   "source": [
    "Now we can remove *visitStartTime* from the dataset and add our new features:"
   ]
  },
  {
   "cell_type": "code",
   "execution_count": 21,
   "metadata": {
    "collapsed": true
   },
   "outputs": [],
   "source": [
    "train.drop('visitStartTime',axis=1, inplace=True)\n",
    "test.drop('visitStartTime',axis=1, inplace=True)\n",
    "numerics.remove('visitStartTime')\n",
    "\n",
    "numerics.append('weekday')\n",
    "numerics.append('startHour')"
   ]
  },
  {
   "cell_type": "markdown",
   "metadata": {},
   "source": [
    "<pre> <font color='green' size=\"+1\"> __We could have extracted all the new columns from one of the variables *date* and *visitStartTime*!__ &#x1F60E;"
   ]
  },
  {
   "cell_type": "markdown",
   "metadata": {},
   "source": [
    "# <font color='red'> Writing the final dataframe to .csv"
   ]
  },
  {
   "cell_type": "code",
   "execution_count": 22,
   "metadata": {
    "collapsed": true
   },
   "outputs": [],
   "source": [
    "train.to_csv('train3.csv', index=False, encoding='utf-8')\n",
    "test.to_csv('test3.csv', index=False, encoding='utf-8')"
   ]
  }
 ],
 "metadata": {
  "kernelspec": {
   "display_name": "Python 3",
   "language": "python",
   "name": "python3"
  },
  "language_info": {
   "codemirror_mode": {
    "name": "ipython",
    "version": 3
   },
   "file_extension": ".py",
   "mimetype": "text/x-python",
   "name": "python",
   "nbconvert_exporter": "python",
   "pygments_lexer": "ipython3",
   "version": "3.6.7"
  }
 },
 "nbformat": 4,
 "nbformat_minor": 2
}
