{
 "cells": [
  {
   "cell_type": "code",
   "execution_count": 1,
   "metadata": {
    "collapsed": true
   },
   "outputs": [],
   "source": [
    "import pandas as pd\n",
    "import numpy as np\n",
    "import warnings\n",
    "import matplotlib.pyplot as plt\n",
    "warnings.filterwarnings('ignore')"
   ]
  },
  {
   "cell_type": "code",
   "execution_count": 2,
   "metadata": {
    "collapsed": true
   },
   "outputs": [],
   "source": [
    "train_url = \"C:/Users/kamyar.manshaei/Desktop/Kaggle/Google Competition/train3.csv\"\n",
    "train = pd.read_csv(train_url)\n",
    "test_url = \"C:/Users/kamyar.manshaei/Desktop/Kaggle/Google Competition/test3.csv\"\n",
    "test = pd.read_csv(test_url)"
   ]
  },
  {
   "cell_type": "markdown",
   "metadata": {},
   "source": [
    "--------------------------------------"
   ]
  },
  {
   "cell_type": "markdown",
   "metadata": {},
   "source": [
    "# <font color='red'>Numeric and Categorical columns"
   ]
  },
  {
   "cell_type": "code",
   "execution_count": 3,
   "metadata": {
    "collapsed": false
   },
   "outputs": [
    {
     "name": "stdout",
     "output_type": "stream",
     "text": [
      "numeric columns:\n",
      "['isMobile', 'hits', 'pageviews', 'bounces', 'newVisits', 'transactionRevenue', 'isTrueDirect', 'isVideoAd', 'visitNumber', 'year', 'month', 'day', 'weekday', 'startHour']\n",
      "\n",
      "categorical columns:\n",
      "['browser', 'operatingSystem', 'deviceCategory', 'continent', 'subContinent', 'country', 'region', 'metro', 'city', 'networkDomain', 'campaign', 'source', 'medium', 'keyword', 'referralPath', 'channelGrouping', 'sessionId']\n"
     ]
    }
   ],
   "source": [
    "numerics = train._get_numeric_data().columns.values.tolist()\n",
    "categoricals = [col for col in train.columns.values if col not in numerics]\n",
    "\n",
    "print('numeric columns:')\n",
    "print(numerics)\n",
    "print()\n",
    "print('categorical columns:')\n",
    "print(categoricals)"
   ]
  },
  {
   "cell_type": "markdown",
   "metadata": {},
   "source": [
    "--------------------------------------"
   ]
  },
  {
   "cell_type": "markdown",
   "metadata": {},
   "source": [
    "# <font color='red'> A deeper look into numerics"
   ]
  },
  {
   "cell_type": "markdown",
   "metadata": {},
   "source": [
    "Some numeric variables with small number of unique values are in fact categorical and must be converted to categorical variables, but at first, let's take a look again into all numerics:"
   ]
  },
  {
   "cell_type": "code",
   "execution_count": 4,
   "metadata": {
    "collapsed": false
   },
   "outputs": [
    {
     "name": "stdout",
     "output_type": "stream",
     "text": [
      "isMobile\n",
      "count    902755.000000\n",
      "mean          0.264622\n",
      "std           0.441132\n",
      "min           0.000000\n",
      "25%           0.000000\n",
      "50%           0.000000\n",
      "75%           1.000000\n",
      "max           1.000000\n",
      "Name: isMobile, dtype: float64\n",
      "\n",
      "hits\n",
      "count    902755.000000\n",
      "mean          4.591720\n",
      "std           9.634079\n",
      "min           1.000000\n",
      "25%           1.000000\n",
      "50%           2.000000\n",
      "75%           4.000000\n",
      "max         500.000000\n",
      "Name: hits, dtype: float64\n",
      "\n",
      "pageviews\n",
      "count    902755.000000\n",
      "mean          3.846008\n",
      "std           7.019751\n",
      "min           1.000000\n",
      "25%           1.000000\n",
      "50%           1.000000\n",
      "75%           4.000000\n",
      "max         469.000000\n",
      "Name: pageviews, dtype: float64\n",
      "\n",
      "bounces\n",
      "count    902755.000000\n",
      "mean          0.498892\n",
      "std           0.499999\n",
      "min           0.000000\n",
      "25%           0.000000\n",
      "50%           0.000000\n",
      "75%           1.000000\n",
      "max           1.000000\n",
      "Name: bounces, dtype: float64\n",
      "\n",
      "newVisits\n",
      "count    902755.000000\n",
      "mean          0.778101\n",
      "std           0.415523\n",
      "min           0.000000\n",
      "25%           1.000000\n",
      "50%           1.000000\n",
      "75%           1.000000\n",
      "max           1.000000\n",
      "Name: newVisits, dtype: float64\n",
      "\n",
      "transactionRevenue\n",
      "count    9.027550e+05\n",
      "mean     1.703551e+06\n",
      "std      5.279965e+07\n",
      "min      0.000000e+00\n",
      "25%      0.000000e+00\n",
      "50%      0.000000e+00\n",
      "75%      0.000000e+00\n",
      "max      2.312950e+10\n",
      "Name: transactionRevenue, dtype: float64\n",
      "\n",
      "isTrueDirect\n",
      "count    902755.000000\n",
      "mean          0.303140\n",
      "std           0.459615\n",
      "min           0.000000\n",
      "25%           0.000000\n",
      "50%           0.000000\n",
      "75%           1.000000\n",
      "max           1.000000\n",
      "Name: isTrueDirect, dtype: float64\n",
      "\n",
      "isVideoAd\n",
      "count    902755.000000\n",
      "mean          0.976265\n",
      "std           0.152223\n",
      "min           0.000000\n",
      "25%           1.000000\n",
      "50%           1.000000\n",
      "75%           1.000000\n",
      "max           1.000000\n",
      "Name: isVideoAd, dtype: float64\n",
      "\n",
      "visitNumber\n",
      "count    902755.000000\n",
      "mean          2.265059\n",
      "std           9.287168\n",
      "min           1.000000\n",
      "25%           1.000000\n",
      "50%           1.000000\n",
      "75%           1.000000\n",
      "max         395.000000\n",
      "Name: visitNumber, dtype: float64\n",
      "\n",
      "year\n",
      "count    902755.000000\n",
      "mean       2016.517031\n",
      "std           0.499710\n",
      "min        2016.000000\n",
      "25%        2016.000000\n",
      "50%        2017.000000\n",
      "75%        2017.000000\n",
      "max        2017.000000\n",
      "Name: year, dtype: float64\n",
      "\n",
      "month\n",
      "count    902755.000000\n",
      "mean          6.987844\n",
      "std           3.484811\n",
      "min           1.000000\n",
      "25%           4.000000\n",
      "50%           7.000000\n",
      "75%          10.000000\n",
      "max          12.000000\n",
      "Name: month, dtype: float64\n",
      "\n",
      "day\n",
      "count    902755.000000\n",
      "mean         15.697221\n",
      "std           8.823964\n",
      "min           1.000000\n",
      "25%           8.000000\n",
      "50%          16.000000\n",
      "75%          23.000000\n",
      "max          31.000000\n",
      "Name: day, dtype: float64\n",
      "\n",
      "weekday\n",
      "count    902755.000000\n",
      "mean          2.751350\n",
      "std           1.908973\n",
      "min           0.000000\n",
      "25%           1.000000\n",
      "50%           3.000000\n",
      "75%           4.000000\n",
      "max           6.000000\n",
      "Name: weekday, dtype: float64\n",
      "\n",
      "startHour\n",
      "count    902755.000000\n",
      "mean         12.534956\n",
      "std           6.826333\n",
      "min           0.000000\n",
      "25%           7.000000\n",
      "50%          14.000000\n",
      "75%          18.000000\n",
      "max          23.000000\n",
      "Name: startHour, dtype: float64\n",
      "\n"
     ]
    }
   ],
   "source": [
    "for cat in numerics:\n",
    "    print(cat)\n",
    "    print(train[cat].describe())\n",
    "    print()"
   ]
  },
  {
   "cell_type": "markdown",
   "metadata": {},
   "source": [
    "*weekday* is in fact categorical:"
   ]
  },
  {
   "cell_type": "code",
   "execution_count": 5,
   "metadata": {
    "collapsed": true
   },
   "outputs": [],
   "source": [
    "train[\"weekday\"][train[\"weekday\"] == 0] = 'Monday'\n",
    "train[\"weekday\"][train[\"weekday\"] == 1] = 'Tuesday'\n",
    "train[\"weekday\"][train[\"weekday\"] == 2] = 'Wednesday'\n",
    "train[\"weekday\"][train[\"weekday\"] == 3] = 'Thursday'\n",
    "train[\"weekday\"][train[\"weekday\"] == 4] = 'Friday'\n",
    "train[\"weekday\"][train[\"weekday\"] == 5] = 'Saturday'\n",
    "train[\"weekday\"][train[\"weekday\"] == 6] = 'Sunday'\n",
    "\n",
    "test[\"weekday\"][test[\"weekday\"] == 0] = 'Monday'\n",
    "test[\"weekday\"][test[\"weekday\"] == 1] = 'Tuesday'\n",
    "test[\"weekday\"][test[\"weekday\"] == 2] = 'Wednesday'\n",
    "test[\"weekday\"][test[\"weekday\"] == 3] = 'Thursday'\n",
    "test[\"weekday\"][test[\"weekday\"] == 4] = 'Friday'\n",
    "test[\"weekday\"][test[\"weekday\"] == 5] = 'Saturday'\n",
    "test[\"weekday\"][test[\"weekday\"] == 6] = 'Sunday'\n",
    "\n",
    "numerics.remove('weekday')\n",
    "categoricals.append('weekday')"
   ]
  },
  {
   "cell_type": "markdown",
   "metadata": {},
   "source": [
    "The *startHour* can be converted to a categorical variable as well. We only need to keep in which part of the day the transaction was started. Therefore we remove this variable and make a new variable *partOfDay*:"
   ]
  },
  {
   "cell_type": "code",
   "execution_count": 6,
   "metadata": {
    "collapsed": true
   },
   "outputs": [],
   "source": [
    "train[\"partOfDay\"] = float('NaN')\n",
    "train[\"partOfDay\"].loc[(0 <= train[\"startHour\"]) & (train[\"startHour\"] < 6)] = 'Midnight'\n",
    "train[\"partOfDay\"].loc[ (6 <= train[\"startHour\"]) & (train[\"startHour\"] < 9)] = 'Early morning'\n",
    "train[\"partOfDay\"].loc[(9 <= train[\"startHour\"]) & (train[\"startHour\"] < 12)] = 'Morning'\n",
    "train[\"partOfDay\"].loc[(12 <= train[\"startHour\"]) & (train[\"startHour\"] < 17)] = 'Afternoon'\n",
    "train[\"partOfDay\"].loc[(17 <= train[\"startHour\"]) & (train[\"startHour\"] < 21)] = 'Evening'\n",
    "train[\"partOfDay\"].loc[(21 <= train[\"startHour\"]) & (train[\"startHour\"] < 24)] = 'Night'\n",
    "\n",
    "test[\"partOfDay\"] = float('NaN')\n",
    "test[\"partOfDay\"].loc[(0 <= test[\"startHour\"]) & (test[\"startHour\"] < 6)] = 'Midnight'\n",
    "test[\"partOfDay\"].loc[ (6 <= test[\"startHour\"]) & (test[\"startHour\"] < 9)] = 'Early morning'\n",
    "test[\"partOfDay\"].loc[(9 <= test[\"startHour\"]) & (test[\"startHour\"] < 12)] = 'Morning'\n",
    "test[\"partOfDay\"].loc[(12 <= test[\"startHour\"]) & (test[\"startHour\"] < 17)] = 'Afternoon'\n",
    "test[\"partOfDay\"].loc[(17 <= test[\"startHour\"]) & (test[\"startHour\"] < 21)] = 'Evening'\n",
    "test[\"partOfDay\"].loc[(21 <= test[\"startHour\"]) & (test[\"startHour\"] < 24)] = 'Night'"
   ]
  },
  {
   "cell_type": "code",
   "execution_count": 7,
   "metadata": {
    "collapsed": true
   },
   "outputs": [],
   "source": [
    "train.drop('startHour',axis=1, inplace=True)\n",
    "test.drop('startHour',axis=1, inplace=True)\n",
    "\n",
    "categoricals.append('partOfDay')\n",
    "numerics.remove('startHour')"
   ]
  },
  {
   "cell_type": "markdown",
   "metadata": {},
   "source": [
    "--------------------------------------"
   ]
  },
  {
   "cell_type": "markdown",
   "metadata": {},
   "source": [
    "# <font color='red'> A deeper look into categoricals"
   ]
  },
  {
   "cell_type": "markdown",
   "metadata": {},
   "source": [
    "We can also shorten some categorical features with a large number of features. For example, we can split all values of the column *day* into *beginning*, *middle*, *end* periods. Or we can extract the domain suffixes from the variable *networkDomai*, which also contains a large number of unique values.  "
   ]
  },
  {
   "cell_type": "markdown",
   "metadata": {},
   "source": [
    "Here we integrate two different values of some columns in one value, since they are both the same:"
   ]
  },
  {
   "cell_type": "markdown",
   "metadata": {},
   "source": [
    "### <font color='blue'> Combining all not available values"
   ]
  },
  {
   "cell_type": "code",
   "execution_count": 8,
   "metadata": {
    "collapsed": true
   },
   "outputs": [],
   "source": [
    "for col in categoricals:\n",
    "    train[col][train[col] == \"(not set)\"] = \"not available\"\n",
    "    train[col][train[col] == \"not available in demo dataset\"] = \"not available\"\n",
    "    test[col][test[col] == \"(not set)\"] = \"not available\"\n",
    "    test[col][test[col] == \"not available in demo dataset\"] = \"not available\""
   ]
  },
  {
   "cell_type": "markdown",
   "metadata": {},
   "source": [
    "### <font color='blue'>*networkDomain*"
   ]
  },
  {
   "cell_type": "markdown",
   "metadata": {},
   "source": [
    "Here we only extract top level domain suffix, and assign all different forms of unknowns to one category. the rest of values will be assigned to *others* category. But at first just a brief look into the frequency of each domain suffix:"
   ]
  },
  {
   "cell_type": "code",
   "execution_count": 9,
   "metadata": {
    "collapsed": false
   },
   "outputs": [
    {
     "name": "stdout",
     "output_type": "stream",
     "text": [
      ".com:  141668\n",
      ".org:  3724\n",
      ".net:  256539\n",
      ".edu:  10939\n",
      ".gov:  959\n",
      ".mil:  1078\n",
      "unknown:  146086\n"
     ]
    }
   ],
   "source": [
    "print(\".com: \",len(train['networkDomain'][train['networkDomain'].str.contains(\".com\")]))\n",
    "print(\".org: \",len(train['networkDomain'][train['networkDomain'].str.contains(\".org\")]))\n",
    "print(\".net: \",len(train['networkDomain'][train['networkDomain'].str.contains(\".net\")]))\n",
    "print(\".edu: \",len(train['networkDomain'][train['networkDomain'].str.contains(\".edu\")]))\n",
    "print(\".gov: \",len(train['networkDomain'][train['networkDomain'].str.contains(\".gov\")]))\n",
    "print(\".mil: \",len(train['networkDomain'][train['networkDomain'].str.contains(\".mil\")]))\n",
    "print(\"unknown: \",len(train['networkDomain'][train['networkDomain'].str.contains(\"unknown\")]))"
   ]
  },
  {
   "cell_type": "markdown",
   "metadata": {},
   "source": [
    "As we already have a column called *country*, we only keep the domain suffix (TO BE CHECKED). <br>It's important to notice that __str.contains__ method checks for the substring in any orders, hence if we have e.g. the substing *common* in one of the domains, it would be counted as *.com* domain. (TO BE FIXED)"
   ]
  },
  {
   "cell_type": "markdown",
   "metadata": {},
   "source": [
    "Just to know how many different domain suffixes, with a frequency of higher than 500, we have:"
   ]
  },
  {
   "cell_type": "code",
   "execution_count": 10,
   "metadata": {
    "collapsed": false
   },
   "outputs": [
    {
     "data": {
      "text/plain": [
       "142"
      ]
     },
     "execution_count": 10,
     "metadata": {},
     "output_type": "execute_result"
    }
   ],
   "source": [
    "from collections import Counter\n",
    "value_counter = Counter(train[\"networkDomain\"].tolist())\n",
    "len({x : value_counter[x] for x in value_counter if value_counter[x] >= 500})"
   ]
  },
  {
   "cell_type": "markdown",
   "metadata": {},
   "source": [
    "Now the assignment:"
   ]
  },
  {
   "cell_type": "code",
   "execution_count": 11,
   "metadata": {
    "collapsed": true
   },
   "outputs": [],
   "source": [
    "train['domain'] = 'others'\n",
    "train['domain'][train['networkDomain'].str.contains(\"unknown\")] = \"unknown\"\n",
    "train['domain'][train['networkDomain'].str.contains(\".com\")] = \".com\"\n",
    "train['domain'][train['networkDomain'].str.contains(\".org\")] = \".org\"\n",
    "train['domain'][train['networkDomain'].str.contains(\".net\")] = \".net\"\n",
    "train['domain'][train['networkDomain'].str.contains(\".edu\")] = \".edu\"\n",
    "train['domain'][train['networkDomain'].str.contains(\".gov\")] = \".gov\"\n",
    "train['domain'][train['networkDomain'].str.contains(\".mil\")] = \".mil\"\n",
    "\n",
    "test['domain'] = 'others'\n",
    "test['domain'][test['networkDomain'].str.contains(\"unknown\")] = \"unknown\"\n",
    "test['domain'][test['networkDomain'].str.contains(\".com\")] = \".com\"\n",
    "test['domain'][test['networkDomain'].str.contains(\".org\")] = \".org\"\n",
    "test['domain'][test['networkDomain'].str.contains(\".net\")] = \".net\"\n",
    "test['domain'][test['networkDomain'].str.contains(\".edu\")] = \".edu\"\n",
    "test['domain'][test['networkDomain'].str.contains(\".gov\")] = \".gov\"\n",
    "test['domain'][test['networkDomain'].str.contains(\".mil\")] = \".mil\""
   ]
  },
  {
   "cell_type": "code",
   "execution_count": 12,
   "metadata": {
    "collapsed": true
   },
   "outputs": [],
   "source": [
    "train.drop('networkDomain',axis=1, inplace=True)\n",
    "test.drop('networkDomain',axis=1, inplace=True)\n",
    "\n",
    "categoricals.append('domain')\n",
    "categoricals.remove('networkDomain')"
   ]
  },
  {
   "cell_type": "markdown",
   "metadata": {},
   "source": [
    "### <font color='blue'>*keyword*, *source* and *referralPath*"
   ]
  },
  {
   "cell_type": "markdown",
   "metadata": {},
   "source": [
    "These three variables have a high number of unique values, but it seems that they are strongly associated with each other:"
   ]
  },
  {
   "cell_type": "code",
   "execution_count": 13,
   "metadata": {
    "collapsed": false
   },
   "outputs": [
    {
     "data": {
      "text/html": [
       "<div>\n",
       "<style scoped>\n",
       "    .dataframe tbody tr th:only-of-type {\n",
       "        vertical-align: middle;\n",
       "    }\n",
       "\n",
       "    .dataframe tbody tr th {\n",
       "        vertical-align: top;\n",
       "    }\n",
       "\n",
       "    .dataframe thead th {\n",
       "        text-align: right;\n",
       "    }\n",
       "</style>\n",
       "<table border=\"1\" class=\"dataframe\">\n",
       "  <thead>\n",
       "    <tr style=\"text-align: right;\">\n",
       "      <th></th>\n",
       "      <th>source</th>\n",
       "      <th>keyword</th>\n",
       "      <th>referralPath</th>\n",
       "    </tr>\n",
       "  </thead>\n",
       "  <tbody>\n",
       "    <tr>\n",
       "      <th>0</th>\n",
       "      <td>google</td>\n",
       "      <td>(not provided)</td>\n",
       "      <td>/</td>\n",
       "    </tr>\n",
       "    <tr>\n",
       "      <th>1</th>\n",
       "      <td>google</td>\n",
       "      <td>(not provided)</td>\n",
       "      <td>/</td>\n",
       "    </tr>\n",
       "    <tr>\n",
       "      <th>2</th>\n",
       "      <td>google</td>\n",
       "      <td>(not provided)</td>\n",
       "      <td>/</td>\n",
       "    </tr>\n",
       "    <tr>\n",
       "      <th>3</th>\n",
       "      <td>google</td>\n",
       "      <td>google + online</td>\n",
       "      <td>/</td>\n",
       "    </tr>\n",
       "    <tr>\n",
       "      <th>4</th>\n",
       "      <td>google</td>\n",
       "      <td>(not provided)</td>\n",
       "      <td>/</td>\n",
       "    </tr>\n",
       "    <tr>\n",
       "      <th>5</th>\n",
       "      <td>google</td>\n",
       "      <td>(not provided)</td>\n",
       "      <td>/</td>\n",
       "    </tr>\n",
       "    <tr>\n",
       "      <th>6</th>\n",
       "      <td>google</td>\n",
       "      <td>(not provided)</td>\n",
       "      <td>/</td>\n",
       "    </tr>\n",
       "    <tr>\n",
       "      <th>7</th>\n",
       "      <td>google</td>\n",
       "      <td>(not provided)</td>\n",
       "      <td>/</td>\n",
       "    </tr>\n",
       "    <tr>\n",
       "      <th>8</th>\n",
       "      <td>google</td>\n",
       "      <td>(not provided)</td>\n",
       "      <td>/</td>\n",
       "    </tr>\n",
       "    <tr>\n",
       "      <th>9</th>\n",
       "      <td>google</td>\n",
       "      <td>(not provided)</td>\n",
       "      <td>/</td>\n",
       "    </tr>\n",
       "    <tr>\n",
       "      <th>10</th>\n",
       "      <td>google</td>\n",
       "      <td>(not provided)</td>\n",
       "      <td>/</td>\n",
       "    </tr>\n",
       "    <tr>\n",
       "      <th>11</th>\n",
       "      <td>google</td>\n",
       "      <td>(not provided)</td>\n",
       "      <td>/</td>\n",
       "    </tr>\n",
       "    <tr>\n",
       "      <th>12</th>\n",
       "      <td>google</td>\n",
       "      <td>(not provided)</td>\n",
       "      <td>/</td>\n",
       "    </tr>\n",
       "    <tr>\n",
       "      <th>13</th>\n",
       "      <td>google</td>\n",
       "      <td>(not provided)</td>\n",
       "      <td>/</td>\n",
       "    </tr>\n",
       "    <tr>\n",
       "      <th>14</th>\n",
       "      <td>google</td>\n",
       "      <td>(not provided)</td>\n",
       "      <td>/</td>\n",
       "    </tr>\n",
       "    <tr>\n",
       "      <th>15</th>\n",
       "      <td>baidu</td>\n",
       "      <td>(not provided)</td>\n",
       "      <td>/</td>\n",
       "    </tr>\n",
       "    <tr>\n",
       "      <th>16</th>\n",
       "      <td>google</td>\n",
       "      <td>(not provided)</td>\n",
       "      <td>/</td>\n",
       "    </tr>\n",
       "    <tr>\n",
       "      <th>17</th>\n",
       "      <td>google</td>\n",
       "      <td>(not provided)</td>\n",
       "      <td>/</td>\n",
       "    </tr>\n",
       "    <tr>\n",
       "      <th>18</th>\n",
       "      <td>google</td>\n",
       "      <td>(not provided)</td>\n",
       "      <td>/</td>\n",
       "    </tr>\n",
       "    <tr>\n",
       "      <th>19</th>\n",
       "      <td>google</td>\n",
       "      <td>(not provided)</td>\n",
       "      <td>/</td>\n",
       "    </tr>\n",
       "    <tr>\n",
       "      <th>20</th>\n",
       "      <td>google</td>\n",
       "      <td>(not provided)</td>\n",
       "      <td>/</td>\n",
       "    </tr>\n",
       "    <tr>\n",
       "      <th>21</th>\n",
       "      <td>baidu</td>\n",
       "      <td>(not provided)</td>\n",
       "      <td>/</td>\n",
       "    </tr>\n",
       "    <tr>\n",
       "      <th>22</th>\n",
       "      <td>google</td>\n",
       "      <td>(not provided)</td>\n",
       "      <td>/</td>\n",
       "    </tr>\n",
       "    <tr>\n",
       "      <th>23</th>\n",
       "      <td>google</td>\n",
       "      <td>(not provided)</td>\n",
       "      <td>/</td>\n",
       "    </tr>\n",
       "    <tr>\n",
       "      <th>24</th>\n",
       "      <td>google</td>\n",
       "      <td>(not provided)</td>\n",
       "      <td>/</td>\n",
       "    </tr>\n",
       "    <tr>\n",
       "      <th>25</th>\n",
       "      <td>google</td>\n",
       "      <td>(not provided)</td>\n",
       "      <td>/</td>\n",
       "    </tr>\n",
       "    <tr>\n",
       "      <th>26</th>\n",
       "      <td>google</td>\n",
       "      <td>(not provided)</td>\n",
       "      <td>/</td>\n",
       "    </tr>\n",
       "    <tr>\n",
       "      <th>27</th>\n",
       "      <td>google</td>\n",
       "      <td>(not provided)</td>\n",
       "      <td>/</td>\n",
       "    </tr>\n",
       "    <tr>\n",
       "      <th>28</th>\n",
       "      <td>googleweblight.com</td>\n",
       "      <td>(not provided)</td>\n",
       "      <td>/</td>\n",
       "    </tr>\n",
       "    <tr>\n",
       "      <th>29</th>\n",
       "      <td>google</td>\n",
       "      <td>(not provided)</td>\n",
       "      <td>/</td>\n",
       "    </tr>\n",
       "    <tr>\n",
       "      <th>...</th>\n",
       "      <td>...</td>\n",
       "      <td>...</td>\n",
       "      <td>...</td>\n",
       "    </tr>\n",
       "    <tr>\n",
       "      <th>902725</th>\n",
       "      <td>youtube.com</td>\n",
       "      <td>(not provided)</td>\n",
       "      <td>/yt/about/tr/</td>\n",
       "    </tr>\n",
       "    <tr>\n",
       "      <th>902726</th>\n",
       "      <td>youtube.com</td>\n",
       "      <td>(not provided)</td>\n",
       "      <td>/yt/about/</td>\n",
       "    </tr>\n",
       "    <tr>\n",
       "      <th>902727</th>\n",
       "      <td>youtube.com</td>\n",
       "      <td>(not provided)</td>\n",
       "      <td>/yt/about/</td>\n",
       "    </tr>\n",
       "    <tr>\n",
       "      <th>902728</th>\n",
       "      <td>reddit.com</td>\n",
       "      <td>(not provided)</td>\n",
       "      <td>/r/golang/comments/4spnk9/where_to_buy_the_gol...</td>\n",
       "    </tr>\n",
       "    <tr>\n",
       "      <th>902729</th>\n",
       "      <td>youtube.com</td>\n",
       "      <td>(not provided)</td>\n",
       "      <td>/yt/about/</td>\n",
       "    </tr>\n",
       "    <tr>\n",
       "      <th>902730</th>\n",
       "      <td>youtube.com</td>\n",
       "      <td>(not provided)</td>\n",
       "      <td>/yt/about/</td>\n",
       "    </tr>\n",
       "    <tr>\n",
       "      <th>902731</th>\n",
       "      <td>youtube.com</td>\n",
       "      <td>(not provided)</td>\n",
       "      <td>/yt/about/</td>\n",
       "    </tr>\n",
       "    <tr>\n",
       "      <th>902732</th>\n",
       "      <td>youtube.com</td>\n",
       "      <td>(not provided)</td>\n",
       "      <td>/yt/about/es-419/</td>\n",
       "    </tr>\n",
       "    <tr>\n",
       "      <th>902733</th>\n",
       "      <td>youtube.com</td>\n",
       "      <td>(not provided)</td>\n",
       "      <td>/yt/about/fa/</td>\n",
       "    </tr>\n",
       "    <tr>\n",
       "      <th>902734</th>\n",
       "      <td>youtube.com</td>\n",
       "      <td>(not provided)</td>\n",
       "      <td>/yt/about/pt-BR/</td>\n",
       "    </tr>\n",
       "    <tr>\n",
       "      <th>902735</th>\n",
       "      <td>youtube.com</td>\n",
       "      <td>(not provided)</td>\n",
       "      <td>/yt/about/en-GB/</td>\n",
       "    </tr>\n",
       "    <tr>\n",
       "      <th>902736</th>\n",
       "      <td>quora.com</td>\n",
       "      <td>(not provided)</td>\n",
       "      <td>/Where-can-I-buy-a-stuffed-Go-language-gopher-...</td>\n",
       "    </tr>\n",
       "    <tr>\n",
       "      <th>902737</th>\n",
       "      <td>youtube.com</td>\n",
       "      <td>(not provided)</td>\n",
       "      <td>/yt/about/</td>\n",
       "    </tr>\n",
       "    <tr>\n",
       "      <th>902738</th>\n",
       "      <td>facebook.com</td>\n",
       "      <td>(not provided)</td>\n",
       "      <td>/</td>\n",
       "    </tr>\n",
       "    <tr>\n",
       "      <th>902739</th>\n",
       "      <td>youtube.com</td>\n",
       "      <td>(not provided)</td>\n",
       "      <td>/yt/about/</td>\n",
       "    </tr>\n",
       "    <tr>\n",
       "      <th>902740</th>\n",
       "      <td>youtube.com</td>\n",
       "      <td>(not provided)</td>\n",
       "      <td>/yt/about/index.html</td>\n",
       "    </tr>\n",
       "    <tr>\n",
       "      <th>902741</th>\n",
       "      <td>quora.com</td>\n",
       "      <td>(not provided)</td>\n",
       "      <td>/Where-can-I-buy-a-stuffed-Go-language-gopher-...</td>\n",
       "    </tr>\n",
       "    <tr>\n",
       "      <th>902742</th>\n",
       "      <td>m.reddit.com</td>\n",
       "      <td>(not provided)</td>\n",
       "      <td>/r/chromeos/comments/39boco/looking_for_chrome...</td>\n",
       "    </tr>\n",
       "    <tr>\n",
       "      <th>902743</th>\n",
       "      <td>quora.com</td>\n",
       "      <td>(not provided)</td>\n",
       "      <td>/Where-can-I-buy-a-stuffed-Go-language-gopher-...</td>\n",
       "    </tr>\n",
       "    <tr>\n",
       "      <th>902744</th>\n",
       "      <td>youtube.com</td>\n",
       "      <td>(not provided)</td>\n",
       "      <td>/yt/about/de/</td>\n",
       "    </tr>\n",
       "    <tr>\n",
       "      <th>902745</th>\n",
       "      <td>groups.google.com</td>\n",
       "      <td>(not provided)</td>\n",
       "      <td>/a/google.com/forum/</td>\n",
       "    </tr>\n",
       "    <tr>\n",
       "      <th>902746</th>\n",
       "      <td>m.youtube.com</td>\n",
       "      <td>(not provided)</td>\n",
       "      <td>/watch</td>\n",
       "    </tr>\n",
       "    <tr>\n",
       "      <th>902747</th>\n",
       "      <td>m.facebook.com</td>\n",
       "      <td>(not provided)</td>\n",
       "      <td>/</td>\n",
       "    </tr>\n",
       "    <tr>\n",
       "      <th>902748</th>\n",
       "      <td>youtube.com</td>\n",
       "      <td>(not provided)</td>\n",
       "      <td>/yt/about/</td>\n",
       "    </tr>\n",
       "    <tr>\n",
       "      <th>902749</th>\n",
       "      <td>youtube.com</td>\n",
       "      <td>(not provided)</td>\n",
       "      <td>/yt/about/ar/</td>\n",
       "    </tr>\n",
       "    <tr>\n",
       "      <th>902750</th>\n",
       "      <td>youtube.com</td>\n",
       "      <td>(not provided)</td>\n",
       "      <td>/yt/about/</td>\n",
       "    </tr>\n",
       "    <tr>\n",
       "      <th>902751</th>\n",
       "      <td>youtube.com</td>\n",
       "      <td>(not provided)</td>\n",
       "      <td>/yt/about/</td>\n",
       "    </tr>\n",
       "    <tr>\n",
       "      <th>902752</th>\n",
       "      <td>youtube.com</td>\n",
       "      <td>(not provided)</td>\n",
       "      <td>/yt/about/ko/</td>\n",
       "    </tr>\n",
       "    <tr>\n",
       "      <th>902753</th>\n",
       "      <td>facebook.com</td>\n",
       "      <td>(not provided)</td>\n",
       "      <td>/l.php</td>\n",
       "    </tr>\n",
       "    <tr>\n",
       "      <th>902754</th>\n",
       "      <td>youtube.com</td>\n",
       "      <td>(not provided)</td>\n",
       "      <td>/yt/about/es-419/</td>\n",
       "    </tr>\n",
       "  </tbody>\n",
       "</table>\n",
       "<p>902755 rows × 3 columns</p>\n",
       "</div>"
      ],
      "text/plain": [
       "                    source          keyword  \\\n",
       "0                   google   (not provided)   \n",
       "1                   google   (not provided)   \n",
       "2                   google   (not provided)   \n",
       "3                   google  google + online   \n",
       "4                   google   (not provided)   \n",
       "5                   google   (not provided)   \n",
       "6                   google   (not provided)   \n",
       "7                   google   (not provided)   \n",
       "8                   google   (not provided)   \n",
       "9                   google   (not provided)   \n",
       "10                  google   (not provided)   \n",
       "11                  google   (not provided)   \n",
       "12                  google   (not provided)   \n",
       "13                  google   (not provided)   \n",
       "14                  google   (not provided)   \n",
       "15                   baidu   (not provided)   \n",
       "16                  google   (not provided)   \n",
       "17                  google   (not provided)   \n",
       "18                  google   (not provided)   \n",
       "19                  google   (not provided)   \n",
       "20                  google   (not provided)   \n",
       "21                   baidu   (not provided)   \n",
       "22                  google   (not provided)   \n",
       "23                  google   (not provided)   \n",
       "24                  google   (not provided)   \n",
       "25                  google   (not provided)   \n",
       "26                  google   (not provided)   \n",
       "27                  google   (not provided)   \n",
       "28      googleweblight.com   (not provided)   \n",
       "29                  google   (not provided)   \n",
       "...                    ...              ...   \n",
       "902725         youtube.com   (not provided)   \n",
       "902726         youtube.com   (not provided)   \n",
       "902727         youtube.com   (not provided)   \n",
       "902728          reddit.com   (not provided)   \n",
       "902729         youtube.com   (not provided)   \n",
       "902730         youtube.com   (not provided)   \n",
       "902731         youtube.com   (not provided)   \n",
       "902732         youtube.com   (not provided)   \n",
       "902733         youtube.com   (not provided)   \n",
       "902734         youtube.com   (not provided)   \n",
       "902735         youtube.com   (not provided)   \n",
       "902736           quora.com   (not provided)   \n",
       "902737         youtube.com   (not provided)   \n",
       "902738        facebook.com   (not provided)   \n",
       "902739         youtube.com   (not provided)   \n",
       "902740         youtube.com   (not provided)   \n",
       "902741           quora.com   (not provided)   \n",
       "902742        m.reddit.com   (not provided)   \n",
       "902743           quora.com   (not provided)   \n",
       "902744         youtube.com   (not provided)   \n",
       "902745   groups.google.com   (not provided)   \n",
       "902746       m.youtube.com   (not provided)   \n",
       "902747      m.facebook.com   (not provided)   \n",
       "902748         youtube.com   (not provided)   \n",
       "902749         youtube.com   (not provided)   \n",
       "902750         youtube.com   (not provided)   \n",
       "902751         youtube.com   (not provided)   \n",
       "902752         youtube.com   (not provided)   \n",
       "902753        facebook.com   (not provided)   \n",
       "902754         youtube.com   (not provided)   \n",
       "\n",
       "                                             referralPath  \n",
       "0                                                       /  \n",
       "1                                                       /  \n",
       "2                                                       /  \n",
       "3                                                       /  \n",
       "4                                                       /  \n",
       "5                                                       /  \n",
       "6                                                       /  \n",
       "7                                                       /  \n",
       "8                                                       /  \n",
       "9                                                       /  \n",
       "10                                                      /  \n",
       "11                                                      /  \n",
       "12                                                      /  \n",
       "13                                                      /  \n",
       "14                                                      /  \n",
       "15                                                      /  \n",
       "16                                                      /  \n",
       "17                                                      /  \n",
       "18                                                      /  \n",
       "19                                                      /  \n",
       "20                                                      /  \n",
       "21                                                      /  \n",
       "22                                                      /  \n",
       "23                                                      /  \n",
       "24                                                      /  \n",
       "25                                                      /  \n",
       "26                                                      /  \n",
       "27                                                      /  \n",
       "28                                                      /  \n",
       "29                                                      /  \n",
       "...                                                   ...  \n",
       "902725                                      /yt/about/tr/  \n",
       "902726                                         /yt/about/  \n",
       "902727                                         /yt/about/  \n",
       "902728  /r/golang/comments/4spnk9/where_to_buy_the_gol...  \n",
       "902729                                         /yt/about/  \n",
       "902730                                         /yt/about/  \n",
       "902731                                         /yt/about/  \n",
       "902732                                  /yt/about/es-419/  \n",
       "902733                                      /yt/about/fa/  \n",
       "902734                                   /yt/about/pt-BR/  \n",
       "902735                                   /yt/about/en-GB/  \n",
       "902736  /Where-can-I-buy-a-stuffed-Go-language-gopher-...  \n",
       "902737                                         /yt/about/  \n",
       "902738                                                  /  \n",
       "902739                                         /yt/about/  \n",
       "902740                               /yt/about/index.html  \n",
       "902741  /Where-can-I-buy-a-stuffed-Go-language-gopher-...  \n",
       "902742  /r/chromeos/comments/39boco/looking_for_chrome...  \n",
       "902743  /Where-can-I-buy-a-stuffed-Go-language-gopher-...  \n",
       "902744                                      /yt/about/de/  \n",
       "902745                               /a/google.com/forum/  \n",
       "902746                                             /watch  \n",
       "902747                                                  /  \n",
       "902748                                         /yt/about/  \n",
       "902749                                      /yt/about/ar/  \n",
       "902750                                         /yt/about/  \n",
       "902751                                         /yt/about/  \n",
       "902752                                      /yt/about/ko/  \n",
       "902753                                             /l.php  \n",
       "902754                                  /yt/about/es-419/  \n",
       "\n",
       "[902755 rows x 3 columns]"
      ]
     },
     "execution_count": 13,
     "metadata": {},
     "output_type": "execute_result"
    }
   ],
   "source": [
    "train[['source', 'keyword', 'referralPath']]\n",
    "#train[['source', 'keyword', 'referralPath']][train['source'].str.contains('yahoo')]"
   ]
  },
  {
   "cell_type": "markdown",
   "metadata": {},
   "source": [
    "For example, everywhere the *source* is equal to __(direct)__, *keyword* is not provided and *referralPath* is __/__:"
   ]
  },
  {
   "cell_type": "code",
   "execution_count": 14,
   "metadata": {
    "collapsed": false
   },
   "outputs": [
    {
     "name": "stdout",
     "output_type": "stream",
     "text": [
      "['/']\n",
      "['(not provided)']\n"
     ]
    }
   ],
   "source": [
    "print(train['referralPath'][train['source'] == '(direct)'].unique())\n",
    "print(train['keyword'][train['source'] == '(direct)'].unique())"
   ]
  },
  {
   "cell_type": "markdown",
   "metadata": {},
   "source": [
    "Since it seems that *source* is the most important one, we take a look into this variable:"
   ]
  },
  {
   "cell_type": "code",
   "execution_count": 15,
   "metadata": {
    "collapsed": false
   },
   "outputs": [
    {
     "data": {
      "text/plain": [
       "{'(direct)': 142858,\n",
       " 'Partners': 16380,\n",
       " 'analytics.google.com': 16131,\n",
       " 'baidu': 3351,\n",
       " 'bing': 1527,\n",
       " 'blog.golang.org': 741,\n",
       " 'dealspotr.com': 528,\n",
       " 'dfa': 5683,\n",
       " 'facebook.com': 2292,\n",
       " 'gdeals.googleplex.com': 1063,\n",
       " 'google': 400340,\n",
       " 'google.com': 4659,\n",
       " 'groups.google.com': 1025,\n",
       " 'l.facebook.com': 792,\n",
       " 'm.facebook.com': 3360,\n",
       " 'mail.google.com': 1456,\n",
       " 'mall.googleplex.com': 66343,\n",
       " 'plus.google.com': 524,\n",
       " 'qiita.com': 1811,\n",
       " 'quora.com': 1545,\n",
       " 'reddit.com': 2019,\n",
       " 'siliconvalley.about.com': 2095,\n",
       " 'sites.google.com': 2983,\n",
       " 't.co': 1529,\n",
       " 'yahoo': 1477,\n",
       " 'youtube.com': 212521}"
      ]
     },
     "execution_count": 15,
     "metadata": {},
     "output_type": "execute_result"
    }
   ],
   "source": [
    "value_counter = Counter(train[\"source\"].tolist())\n",
    "{x : value_counter[x] for x in value_counter if value_counter[x] >= 500}"
   ]
  },
  {
   "cell_type": "markdown",
   "metadata": {},
   "source": [
    "Now we try to combine some values of *source*:"
   ]
  },
  {
   "cell_type": "code",
   "execution_count": 16,
   "metadata": {
    "collapsed": true
   },
   "outputs": [],
   "source": [
    "train['cleanedSource'] = train['source']\n",
    "train['cleanedSource'][train['source'].str.contains('google')]  = 'google'\n",
    "train['cleanedSource'][train['source'].str.contains('yahoo')]  = 'yahoo'\n",
    "train['cleanedSource'][train['source'].str.contains('facebook')]  = 'facebook'\n",
    "train['cleanedSource'][train['source'].str.contains('youtube')]  = 'youtube'\n",
    "\n",
    "test['cleanedSource'] = test['source']\n",
    "test['cleanedSource'][test['source'].str.contains('google')]  = 'google'\n",
    "test['cleanedSource'][test['source'].str.contains('yahoo')]  = 'yahoo'\n",
    "test['cleanedSource'][test['source'].str.contains('facebook')]  = 'facebook'\n",
    "test['cleanedSource'][test['source'].str.contains('youtube')]  = 'youtube'"
   ]
  },
  {
   "cell_type": "markdown",
   "metadata": {},
   "source": [
    "Here if one value is contained in another one, the value of the larger will be set to the shorter:"
   ]
  },
  {
   "cell_type": "code",
   "execution_count": 17,
   "metadata": {
    "collapsed": true
   },
   "outputs": [],
   "source": [
    "from difflib import SequenceMatcher\n",
    "import itertools\n",
    "\n",
    "values = train[\"cleanedSource\"].unique().tolist()\n",
    "values.remove('t.co')\n",
    "for a, b in itertools.combinations(values, 2):\n",
    "    if(a in b) or (b in a):\n",
    "        if len(a) < len(b):\n",
    "            train['cleanedSource'][train['cleanedSource'] == b]  = a\n",
    "            test['cleanedSource'][test['cleanedSource'] == b]  = a\n",
    "        else:\n",
    "            train['cleanedSource'][train['cleanedSource'] == a]  = b\n",
    "            test['cleanedSource'][test['cleanedSource'] == a]  = b"
   ]
  },
  {
   "cell_type": "markdown",
   "metadata": {},
   "source": [
    "And finally all values which are repeated only once will be set to __other__:"
   ]
  },
  {
   "cell_type": "code",
   "execution_count": 18,
   "metadata": {
    "collapsed": true
   },
   "outputs": [],
   "source": [
    "train['cleanedSource'][train.groupby('cleanedSource').cleanedSource.transform(len) == 1] = 'other'\n",
    "train['source'] = train['cleanedSource']\n",
    "train.drop('cleanedSource',axis=1, inplace=True)\n",
    "\n",
    "test['cleanedSource'][test.groupby('cleanedSource').cleanedSource.transform(len) == 1] = 'other'\n",
    "test['source'] = test['cleanedSource']\n",
    "test.drop('cleanedSource',axis=1, inplace=True)"
   ]
  },
  {
   "cell_type": "markdown",
   "metadata": {},
   "source": [
    "As all these three columns look similar, we only keep *source* and remove the other two:"
   ]
  },
  {
   "cell_type": "code",
   "execution_count": 19,
   "metadata": {
    "collapsed": true
   },
   "outputs": [],
   "source": [
    "train.drop('referralPath',axis=1, inplace=True)\n",
    "train.drop('keyword',axis=1, inplace=True)\n",
    "test.drop('referralPath',axis=1, inplace=True)\n",
    "test.drop('keyword',axis=1, inplace=True)\n",
    "categoricals.remove('keyword')\n",
    "categoricals.remove('referralPath')"
   ]
  },
  {
   "cell_type": "markdown",
   "metadata": {},
   "source": [
    "### <font color='blue'>*medium*"
   ]
  },
  {
   "cell_type": "code",
   "execution_count": 20,
   "metadata": {
    "collapsed": false
   },
   "outputs": [
    {
     "name": "stdout",
     "output_type": "stream",
     "text": [
      "(none):  142856\n",
      "not available:  120\n"
     ]
    }
   ],
   "source": [
    "print('(none): ', len(train[train['medium'] == '(none)']))\n",
    "print('not available: ', len(train[train['medium'] == 'not available']))"
   ]
  },
  {
   "cell_type": "code",
   "execution_count": 21,
   "metadata": {
    "collapsed": true
   },
   "outputs": [],
   "source": [
    "train['medium'][train['medium'] == 'not available'] = '(none)'\n",
    "test['medium'][test['medium'] == 'not available'] = '(none)'"
   ]
  },
  {
   "cell_type": "markdown",
   "metadata": {},
   "source": [
    "### <font color='blue'>*browser*"
   ]
  },
  {
   "cell_type": "markdown",
   "metadata": {},
   "source": [
    "For this column we need to combine some values, which are in fact the same. At first let's check those values:"
   ]
  },
  {
   "cell_type": "code",
   "execution_count": 22,
   "metadata": {
    "collapsed": false,
    "scrolled": true
   },
   "outputs": [
    {
     "data": {
      "text/plain": [
       "Counter({'0': 7,\n",
       "         'ADM': 1,\n",
       "         'Amazon Silk': 561,\n",
       "         'Android Browser': 552,\n",
       "         'Android Runtime': 2,\n",
       "         'Android Webview': 7855,\n",
       "         'Apple-iPhone7C2': 9,\n",
       "         'BlackBerry': 184,\n",
       "         'CSM Click': 1,\n",
       "         'Changa 99695759': 1,\n",
       "         'Chrome': 619699,\n",
       "         'Coc Coc': 724,\n",
       "         'DASH_JR_3G': 4,\n",
       "         'DoCoMo': 1,\n",
       "         'Edge': 10197,\n",
       "         'Firefox': 37039,\n",
       "         'HTC802t_TD': 1,\n",
       "         'Hisense M20-M_LTE': 1,\n",
       "         'IE with Chrome Frame': 1,\n",
       "         'Internet Explorer': 19358,\n",
       "         'Iron': 33,\n",
       "         'Konqueror': 1,\n",
       "         'LYF_LS_4002_11': 3,\n",
       "         'LYF_LS_4002_12': 21,\n",
       "         'Lunascape': 5,\n",
       "         'M5': 1,\n",
       "         'MQQBrowser': 2,\n",
       "         'MRCHROME': 263,\n",
       "         'Maxthon': 246,\n",
       "         'Mozilla': 11,\n",
       "         'Mozilla Compatible Agent': 374,\n",
       "         'Nichrome': 7,\n",
       "         'Nintendo Browser': 140,\n",
       "         'Nokia Browser': 67,\n",
       "         'NokiaE52-1': 2,\n",
       "         'Opera': 5640,\n",
       "         'Opera Mini': 6133,\n",
       "         'Puffin': 93,\n",
       "         'Reddit': 1,\n",
       "         'Safari': 182101,\n",
       "         'Safari (in-app)': 6845,\n",
       "         'SeaMonkey': 15,\n",
       "         'Seznam': 11,\n",
       "         'TCL P500M': 1,\n",
       "         'ThumbSniper': 3,\n",
       "         'UC Browser': 2422,\n",
       "         'User Agent': 1,\n",
       "         'YE': 2,\n",
       "         'YaBrowser': 2095,\n",
       "         '[Use default User-agent string] LIVRENPOCHE': 1,\n",
       "         'no-ua': 3,\n",
       "         'not available': 8,\n",
       "         'osee2unifiedRelease': 5,\n",
       "         'subjectAgent: NoticiasBoom': 1})"
      ]
     },
     "execution_count": 22,
     "metadata": {},
     "output_type": "execute_result"
    }
   ],
   "source": [
    "Counter(train['browser'].tolist())"
   ]
  },
  {
   "cell_type": "markdown",
   "metadata": {},
   "source": [
    "Now combining them:"
   ]
  },
  {
   "cell_type": "code",
   "execution_count": 23,
   "metadata": {
    "collapsed": true
   },
   "outputs": [],
   "source": [
    "train['browser'][train['browser'].str.contains('Safari')] = 'Safari'\n",
    "train['browser'][train['browser'].str.contains('Android')] = 'Android'\n",
    "train['browser'][train['browser'].str.contains('Mozilla')] = 'Mozilla'\n",
    "train['browser'][train['browser'].str.contains('Nokia')] = 'Nokia'\n",
    "train['browser'][train['browser'].str.contains('Safari')] = 'Safari'\n",
    "train['browser'][train['browser'].str.contains('Opera')] = 'Opera'\n",
    "train['browser'][train.groupby('browser').browser.transform(len) < 69] = 'other'\n",
    "\n",
    "test['browser'][test['browser'].str.contains('Safari')] = 'Safari'\n",
    "test['browser'][test['browser'].str.contains('Android')] = 'Android'\n",
    "test['browser'][test['browser'].str.contains('Mozilla')] = 'Mozilla'\n",
    "test['browser'][test['browser'].str.contains('Nokia')] = 'Nokia'\n",
    "test['browser'][test['browser'].str.contains('Safari')] = 'Safari'\n",
    "test['browser'][test['browser'].str.contains('Opera')] = 'Opera'\n",
    "test['browser'][test.groupby('browser').browser.transform(len) < 30] = 'other'"
   ]
  },
  {
   "cell_type": "markdown",
   "metadata": {},
   "source": [
    "# <font color='red'> Charts"
   ]
  },
  {
   "cell_type": "markdown",
   "metadata": {},
   "source": [
    "### <font color='blue'>Bar charts of categoricals "
   ]
  },
  {
   "cell_type": "code",
   "execution_count": 24,
   "metadata": {
    "collapsed": false
   },
   "outputs": [
    {
     "data": {
      "image/png": "[encoded data removed]",
      "text/plain": [
       "<matplotlib.figure.Figure at 0x26c025bb320>"
      ]
     },
     "metadata": {},
     "output_type": "display_data"
    },
    {
     "data": {
      "image/png": "[encoded data removed]",
      "text/plain": [
       "<matplotlib.figure.Figure at 0x26c05c9c400>"
      ]
     },
     "metadata": {},
     "output_type": "display_data"
    },
    {
     "data": {
      "image/png": "[encoded data removed]",
      "text/plain": [
       "<matplotlib.figure.Figure at 0x26c002daf98>"
      ]
     },
     "metadata": {},
     "output_type": "display_data"
    },
    {
     "data": {
      "image/png": "[encoded data removed]",
      "text/plain": [
       "<matplotlib.figure.Figure at 0x26c7dd83fd0>"
      ]
     },
     "metadata": {},
     "output_type": "display_data"
    },
    {
     "data": {
      "image/png": "[encoded data removed]",
      "text/plain": [
       "<matplotlib.figure.Figure at 0x26c160e0cc0>"
      ]
     },
     "metadata": {},
     "output_type": "display_data"
    },
    {
     "data": {
      "image/png": "[encoded data removed]",
      "text/plain": [
       "<matplotlib.figure.Figure at 0x26c160f5048>"
      ]
     },
     "metadata": {},
     "output_type": "display_data"
    },
    {
     "data": {
      "image/png": "[encoded data removed]",
      "text/plain": [
       "<matplotlib.figure.Figure at 0x26c01fcde80>"
      ]
     },
     "metadata": {},
     "output_type": "display_data"
    },
    {
     "data": {
      "image/png": "[encoded data removed]",
      "text/plain": [
       "<matplotlib.figure.Figure at 0x26c16c62a90>"
      ]
     },
     "metadata": {},
     "output_type": "display_data"
    },
    {
     "data": {
      "image/png": "[encoded data removed]",
      "text/plain": [
       "<matplotlib.figure.Figure at 0x26c1210cf60>"
      ]
     },
     "metadata": {},
     "output_type": "display_data"
    },
    {
     "data": {
      "image/png": "[encoded data removed]",
      "text/plain": [
       "<matplotlib.figure.Figure at 0x26c01457278>"
      ]
     },
     "metadata": {},
     "output_type": "display_data"
    },
    {
     "data": {
      "image/png": "[encoded data removed]",
      "text/plain": [
       "<matplotlib.figure.Figure at 0x26c16c62080>"
      ]
     },
     "metadata": {},
     "output_type": "display_data"
    },
    {
     "name": "stdout",
     "output_type": "stream",
     "text": [
      "\n",
      "country\n",
      "222\n",
      "\n",
      "region\n",
      "375\n",
      "\n",
      "metro\n",
      "93\n",
      "\n",
      "city\n",
      "648\n",
      "\n",
      "source\n",
      "94\n",
      "\n",
      "sessionId\n",
      "902755\n"
     ]
    }
   ],
   "source": [
    "long = []\n",
    "for col in categoricals:\n",
    "    if(len(train[col].unique()) < 50):\n",
    "        x = train[col].unique()\n",
    "        y = [len(train[col][train[col] == value]) for value in train[col].unique()]\n",
    "        x_pos = np.arange(len(x))\n",
    "\n",
    "        plt.bar(x_pos, y, align='center', alpha=0.5)\n",
    "        plt.xticks(x_pos, x, rotation='vertical')\n",
    "        plt.ylabel('Count')\n",
    "        plt.title(col)\n",
    "        plt.show()\n",
    "    else:\n",
    "        long.append(col)\n",
    "\n",
    "for col in long:\n",
    "    print()\n",
    "    print(col)\n",
    "    print(len(train[col].unique()))"
   ]
  },
  {
   "cell_type": "markdown",
   "metadata": {},
   "source": [
    "### <font color='blue'>Histograms of numerics"
   ]
  },
  {
   "cell_type": "code",
   "execution_count": 25,
   "metadata": {
    "collapsed": false
   },
   "outputs": [
    {
     "name": "stdout",
     "output_type": "stream",
     "text": [
      "isMobile\n"
     ]
    },
    {
     "data": {
      "image/png": "[encoded data removed]",
      "text/plain": [
       "<matplotlib.figure.Figure at 0x26c169a7860>"
      ]
     },
     "metadata": {},
     "output_type": "display_data"
    },
    {
     "name": "stdout",
     "output_type": "stream",
     "text": [
      "hits\n"
     ]
    },
    {
     "data": {
      "image/png": "[encoded data removed]",
      "text/plain": [
       "<matplotlib.figure.Figure at 0x26c025b2ef0>"
      ]
     },
     "metadata": {},
     "output_type": "display_data"
    },
    {
     "name": "stdout",
     "output_type": "stream",
     "text": [
      "pageviews\n"
     ]
    },
    {
     "data": {
      "image/png": "[encoded data removed]",
      "text/plain": [
       "<matplotlib.figure.Figure at 0x26c17dbfcf8>"
      ]
     },
     "metadata": {},
     "output_type": "display_data"
    },
    {
     "name": "stdout",
     "output_type": "stream",
     "text": [
      "bounces\n"
     ]
    },
    {
     "data": {
      "image/png": "[encoded data removed]",
      "text/plain": [
       "<matplotlib.figure.Figure at 0x26c01fe3da0>"
      ]
     },
     "metadata": {},
     "output_type": "display_data"
    },
    {
     "name": "stdout",
     "output_type": "stream",
     "text": [
      "newVisits\n"
     ]
    },
    {
     "data": {
      "image/png": "[encoded data removed]",
      "text/plain": [
       "<matplotlib.figure.Figure at 0x26c10b98160>"
      ]
     },
     "metadata": {},
     "output_type": "display_data"
    },
    {
     "name": "stdout",
     "output_type": "stream",
     "text": [
      "transactionRevenue\n"
     ]
    },
    {
     "data": {
      "image/png": "[encoded data removed]",
      "text/plain": [
       "<matplotlib.figure.Figure at 0x26c177d9978>"
      ]
     },
     "metadata": {},
     "output_type": "display_data"
    },
    {
     "name": "stdout",
     "output_type": "stream",
     "text": [
      "isTrueDirect\n"
     ]
    },
    {
     "data": {
      "image/png": "[encoded data removed]",
      "text/plain": [
       "<matplotlib.figure.Figure at 0x26c1751c0f0>"
      ]
     },
     "metadata": {},
     "output_type": "display_data"
    },
    {
     "name": "stdout",
     "output_type": "stream",
     "text": [
      "isVideoAd\n"
     ]
    },
    {
     "data": {
      "image/png": "[encoded data removed]",
      "text/plain": [
       "<matplotlib.figure.Figure at 0x26c163e1cf8>"
      ]
     },
     "metadata": {},
     "output_type": "display_data"
    },
    {
     "name": "stdout",
     "output_type": "stream",
     "text": [
      "visitNumber\n"
     ]
    },
    {
     "data": {
      "image/png": "[encoded data removed]",
      "text/plain": [
       "<matplotlib.figure.Figure at 0x26c074e6f98>"
      ]
     },
     "metadata": {},
     "output_type": "display_data"
    },
    {
     "name": "stdout",
     "output_type": "stream",
     "text": [
      "year\n"
     ]
    },
    {
     "data": {
      "image/png": "[encoded data removed]",
      "text/plain": [
       "<matplotlib.figure.Figure at 0x26c7e083da0>"
      ]
     },
     "metadata": {},
     "output_type": "display_data"
    },
    {
     "name": "stdout",
     "output_type": "stream",
     "text": [
      "month\n"
     ]
    },
    {
     "data": {
      "image/png": "[encoded data removed]",
      "text/plain": [
       "<matplotlib.figure.Figure at 0x26c08787710>"
      ]
     },
     "metadata": {},
     "output_type": "display_data"
    },
    {
     "name": "stdout",
     "output_type": "stream",
     "text": [
      "day\n"
     ]
    },
    {
     "data": {
      "image/png": "[encoded data removed]",
      "text/plain": [
       "<matplotlib.figure.Figure at 0x26c16115198>"
      ]
     },
     "metadata": {},
     "output_type": "display_data"
    }
   ],
   "source": [
    "for col in numerics:\n",
    "    print(col)\n",
    "    x = train[col]#.dropna()\n",
    "    plt.hist(x, bins = 50)\n",
    "    plt.ylabel('Count')\n",
    "    plt.title(col)\n",
    "    plt.xlim(xmin= min(train[col].unique()) , xmax = max(train[col].unique()))\n",
    "    plt.show()"
   ]
  },
  {
   "cell_type": "markdown",
   "metadata": {},
   "source": [
    "From the histograms, we can infere that some columns may contain outliers. (TO BE CHECKED)"
   ]
  },
  {
   "cell_type": "markdown",
   "metadata": {},
   "source": [
    "------------------------------------"
   ]
  },
  {
   "cell_type": "markdown",
   "metadata": {},
   "source": [
    "# <font color='red'> Writing the final dataframe to .csv"
   ]
  },
  {
   "cell_type": "code",
   "execution_count": 26,
   "metadata": {
    "collapsed": true
   },
   "outputs": [],
   "source": [
    "train.to_csv('train4.csv', index=False, encoding='utf-8')\n",
    "test.to_csv('test4.csv', index=False, encoding='utf-8')"
   ]
  }
 ],
 "metadata": {
  "kernelspec": {
   "display_name": "Python 3",
   "language": "python",
   "name": "python3"
  },
  "language_info": {
   "codemirror_mode": {
    "name": "ipython",
    "version": 3
   },
   "file_extension": ".py",
   "mimetype": "text/x-python",
   "name": "python",
   "nbconvert_exporter": "python",
   "pygments_lexer": "ipython3",
   "version": "3.6.7"
  }
 },
 "nbformat": 4,
 "nbformat_minor": 2
}
