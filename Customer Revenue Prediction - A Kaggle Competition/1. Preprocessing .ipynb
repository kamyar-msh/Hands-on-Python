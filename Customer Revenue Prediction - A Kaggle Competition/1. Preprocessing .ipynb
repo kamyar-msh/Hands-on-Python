{
 "cells": [
  {
   "cell_type": "code",
   "execution_count": 1,
   "metadata": {
    "collapsed": true
   },
   "outputs": [],
   "source": [
    "import pandas as pd\n",
    "import numpy as np\n",
    "import warnings\n",
    "warnings.filterwarnings('ignore')"
   ]
  },
  {
   "cell_type": "code",
   "execution_count": 2,
   "metadata": {
    "collapsed": true
   },
   "outputs": [],
   "source": [
    "train_url = \"C:/Users/kamyar.manshaei/Desktop/Kaggle/Google Competition/train.csv\"\n",
    "train = pd.read_csv(train_url)\n",
    "test_url = \"C:/Users/kamyar.manshaei/Desktop/Kaggle/Google Competition/test.csv\"\n",
    "test = pd.read_csv(test_url)"
   ]
  },
  {
   "cell_type": "markdown",
   "metadata": {},
   "source": [
    "# <font color='red'>Size of the datasets"
   ]
  },
  {
   "cell_type": "code",
   "execution_count": 3,
   "metadata": {
    "collapsed": false
   },
   "outputs": [
    {
     "name": "stdout",
     "output_type": "stream",
     "text": [
      "train size:\n",
      "(903653, 56)\n",
      "test size:\n",
      "(804684, 54)\n"
     ]
    }
   ],
   "source": [
    "print(\"train size:\")\n",
    "print(train.shape)\n",
    "print(\"test size:\")\n",
    "print(test.shape)"
   ]
  },
  {
   "cell_type": "markdown",
   "metadata": {},
   "source": [
    "--------------------------------------------------------------------------------------------------------------------------------"
   ]
  },
  {
   "cell_type": "markdown",
   "metadata": {},
   "source": [
    "# <font color='red'>Numeric and Categorical columns"
   ]
  },
  {
   "cell_type": "code",
   "execution_count": 4,
   "metadata": {
    "collapsed": false
   },
   "outputs": [
    {
     "name": "stdout",
     "output_type": "stream",
     "text": [
      "numeric columns:\n",
      "['isMobile', 'visits', 'hits', 'pageviews', 'bounces', 'newVisits', 'transactionRevenue', 'page', 'targetingCriteria', 'date', 'visitId', 'visitNumber', 'visitStartTime']\n",
      "\n",
      "categorical columns:\n",
      "['browser', 'browserVersion', 'browserSize', 'operatingSystem', 'operatingSystemVersion', 'mobileDeviceBranding', 'mobileDeviceModel', 'mobileInputSelector', 'mobileDeviceInfo', 'mobileDeviceMarketingName', 'flashVersion', 'language', 'screenColors', 'screenResolution', 'deviceCategory', 'continent', 'subContinent', 'country', 'region', 'metro', 'city', 'cityId', 'networkDomain', 'latitude', 'longitude', 'networkLocation', 'campaign', 'source', 'medium', 'keyword', 'criteriaParameters', 'isTrueDirect', 'referralPath', 'slot', 'gclId', 'adNetworkType', 'isVideoAd', 'adContent', 'campaignCode', 'channelGrouping', 'fullVisitorId', 'sessionId', 'socialEngagementType']\n"
     ]
    }
   ],
   "source": [
    "numerics = train._get_numeric_data().columns.values.tolist()\n",
    "categoricals = [col for col in train.columns.values if col not in numerics]\n",
    "\n",
    "print('numeric columns:')\n",
    "print(numerics)\n",
    "print()\n",
    "print('categorical columns:')\n",
    "print(categoricals)"
   ]
  },
  {
   "cell_type": "markdown",
   "metadata": {},
   "source": [
    "# <font color='red'>Removing useless columns"
   ]
  },
  {
   "cell_type": "markdown",
   "metadata": {},
   "source": [
    "### <font color='blue'>Columns appeared only in train set"
   ]
  },
  {
   "cell_type": "code",
   "execution_count": 5,
   "metadata": {
    "collapsed": false
   },
   "outputs": [
    {
     "name": "stdout",
     "output_type": "stream",
     "text": [
      "transactionRevenue\n",
      "Number of non-NaN values:  11515\n",
      "\n",
      "campaignCode\n",
      "Number of non-NaN values:  1\n",
      "\n"
     ]
    }
   ],
   "source": [
    "for col in train.columns.values:\n",
    "    if col not in test.columns.values:\n",
    "        print(col)\n",
    "        print(\"Number of non-NaN values: \", len(train[col][train[col].isna() == False]))\n",
    "        print()"
   ]
  },
  {
   "cell_type": "code",
   "execution_count": 6,
   "metadata": {
    "collapsed": true
   },
   "outputs": [],
   "source": [
    "train.drop('campaignCode',axis=1, inplace=True)\n",
    "categoricals.remove('campaignCode')"
   ]
  },
  {
   "cell_type": "markdown",
   "metadata": {},
   "source": [
    "### <font color='blue'>Removing columns containing only NaN"
   ]
  },
  {
   "cell_type": "code",
   "execution_count": 7,
   "metadata": {
    "collapsed": false
   },
   "outputs": [
    {
     "name": "stdout",
     "output_type": "stream",
     "text": [
      "targetingCriteria\n"
     ]
    }
   ],
   "source": [
    "for col in train.columns.values:\n",
    "    if len(train[col][train[col].isna() != False]) == train.shape[0]:\n",
    "        print(col)"
   ]
  },
  {
   "cell_type": "code",
   "execution_count": 8,
   "metadata": {
    "collapsed": true
   },
   "outputs": [],
   "source": [
    "train.drop('targetingCriteria',axis=1, inplace=True)\n",
    "test.drop('targetingCriteria',axis=1, inplace=True)\n",
    "numerics.remove('targetingCriteria')"
   ]
  },
  {
   "cell_type": "markdown",
   "metadata": {},
   "source": [
    "### <font color='blue'>Dropping columns with only one value"
   ]
  },
  {
   "cell_type": "code",
   "execution_count": 9,
   "metadata": {
    "collapsed": false
   },
   "outputs": [
    {
     "name": "stdout",
     "output_type": "stream",
     "text": [
      "browserVersion\n",
      "browserSize\n",
      "operatingSystemVersion\n",
      "mobileDeviceBranding\n",
      "mobileDeviceModel\n",
      "mobileInputSelector\n",
      "mobileDeviceInfo\n",
      "mobileDeviceMarketingName\n",
      "flashVersion\n",
      "language\n",
      "screenColors\n",
      "screenResolution\n",
      "visits\n",
      "cityId\n",
      "latitude\n",
      "longitude\n",
      "networkLocation\n",
      "criteriaParameters\n",
      "socialEngagementType\n"
     ]
    }
   ],
   "source": [
    "for col in train.columns.values:\n",
    "    if len(train[col].unique()) == 1:\n",
    "        print(col)\n",
    "        train.drop(col,axis=1, inplace=True)\n",
    "        test.drop(col,axis=1, inplace=True)\n",
    "        if col in categoricals:\n",
    "            categoricals.remove(col)\n",
    "        if col in numerics:\n",
    "            numerics.remove(col)"
   ]
  },
  {
   "cell_type": "markdown",
   "metadata": {},
   "source": [
    "--------------------------------------------------------------------------------------------------------------------------------"
   ]
  },
  {
   "cell_type": "markdown",
   "metadata": {},
   "source": [
    "# <font color='red'>Finding a unique ID"
   ]
  },
  {
   "cell_type": "markdown",
   "metadata": {},
   "source": [
    "Just to check how many IDs we have:"
   ]
  },
  {
   "cell_type": "code",
   "execution_count": 10,
   "metadata": {
    "collapsed": false
   },
   "outputs": [
    {
     "data": {
      "text/plain": [
       "['gclId', 'fullVisitorId', 'sessionId', 'visitId']"
      ]
     },
     "execution_count": 10,
     "metadata": {},
     "output_type": "execute_result"
    }
   ],
   "source": [
    "[i for i in train.columns.values if 'Id' in i]"
   ]
  },
  {
   "cell_type": "markdown",
   "metadata": {},
   "source": [
    "Here we find columns, in which more than 50% of the values are unique:"
   ]
  },
  {
   "cell_type": "code",
   "execution_count": 11,
   "metadata": {
    "collapsed": false
   },
   "outputs": [
    {
     "name": "stdout",
     "output_type": "stream",
     "text": [
      "fullVisitorId\n",
      "0.8009744891014582\n",
      "\n",
      "sessionId\n",
      "0.9990062557198394\n",
      "\n",
      "visitId\n",
      "0.9808001522708385\n",
      "\n",
      "visitStartTime\n",
      "0.9817474185334415\n",
      "\n"
     ]
    }
   ],
   "source": [
    "for col in train.columns.values:\n",
    "    if (train[col].nunique() / train.shape[0]) > 0.5 :\n",
    "        print(col)\n",
    "        print (train[col].nunique() / train.shape[0])\n",
    "        print()"
   ]
  },
  {
   "cell_type": "code",
   "execution_count": 12,
   "metadata": {
    "collapsed": false
   },
   "outputs": [
    {
     "name": "stdout",
     "output_type": "stream",
     "text": [
      "fullVisitorId\n",
      "0.8083781956643851\n",
      "\n",
      "sessionId\n",
      "0.9989797237176332\n",
      "\n",
      "visitId\n",
      "0.9687082134104816\n",
      "\n",
      "visitStartTime\n",
      "0.9696526835378857\n",
      "\n"
     ]
    }
   ],
   "source": [
    "for col in test.columns.values:\n",
    "    if (test[col].nunique() / test.shape[0]) > 0.5 :\n",
    "        print(col)\n",
    "        print (test[col].nunique() / test.shape[0])\n",
    "        print()"
   ]
  },
  {
   "cell_type": "markdown",
   "metadata": {},
   "source": [
    "As we can see, there is no completely unique column. One probable reason could be presence of replicated rows. Therefore we check if there are replicated rows in the dataset:"
   ]
  },
  {
   "cell_type": "code",
   "execution_count": 13,
   "metadata": {
    "collapsed": false
   },
   "outputs": [
    {
     "data": {
      "text/html": [
       "<div>\n",
       "<style scoped>\n",
       "    .dataframe tbody tr th:only-of-type {\n",
       "        vertical-align: middle;\n",
       "    }\n",
       "\n",
       "    .dataframe tbody tr th {\n",
       "        vertical-align: top;\n",
       "    }\n",
       "\n",
       "    .dataframe thead th {\n",
       "        text-align: right;\n",
       "    }\n",
       "</style>\n",
       "<table border=\"1\" class=\"dataframe\">\n",
       "  <thead>\n",
       "    <tr style=\"text-align: right;\">\n",
       "      <th></th>\n",
       "      <th>browser</th>\n",
       "      <th>operatingSystem</th>\n",
       "      <th>isMobile</th>\n",
       "      <th>deviceCategory</th>\n",
       "      <th>hits</th>\n",
       "      <th>pageviews</th>\n",
       "      <th>bounces</th>\n",
       "      <th>newVisits</th>\n",
       "      <th>transactionRevenue</th>\n",
       "      <th>continent</th>\n",
       "      <th>...</th>\n",
       "      <th>adNetworkType</th>\n",
       "      <th>isVideoAd</th>\n",
       "      <th>adContent</th>\n",
       "      <th>channelGrouping</th>\n",
       "      <th>date</th>\n",
       "      <th>fullVisitorId</th>\n",
       "      <th>sessionId</th>\n",
       "      <th>visitId</th>\n",
       "      <th>visitNumber</th>\n",
       "      <th>visitStartTime</th>\n",
       "    </tr>\n",
       "  </thead>\n",
       "  <tbody>\n",
       "  </tbody>\n",
       "</table>\n",
       "<p>0 rows × 35 columns</p>\n",
       "</div>"
      ],
      "text/plain": [
       "Empty DataFrame\n",
       "Columns: [browser, operatingSystem, isMobile, deviceCategory, hits, pageviews, bounces, newVisits, transactionRevenue, continent, subContinent, country, region, metro, city, networkDomain, campaign, source, medium, keyword, isTrueDirect, referralPath, page, slot, gclId, adNetworkType, isVideoAd, adContent, channelGrouping, date, fullVisitorId, sessionId, visitId, visitNumber, visitStartTime]\n",
       "Index: []\n",
       "\n",
       "[0 rows x 35 columns]"
      ]
     },
     "execution_count": 13,
     "metadata": {},
     "output_type": "execute_result"
    }
   ],
   "source": [
    "train[train.duplicated()]"
   ]
  },
  {
   "cell_type": "markdown",
   "metadata": {},
   "source": [
    "No replicated rows in the datset, but must be checked again after imputation of missing values"
   ]
  },
  {
   "cell_type": "markdown",
   "metadata": {},
   "source": [
    "### <font color='blue'>Creating a unique ID"
   ]
  },
  {
   "cell_type": "markdown",
   "metadata": {},
   "source": [
    "According to the description, *sessionId* is the unique ID and contains both *fullVistorId* and *visitId*, but as shown above, there are some duplicated values for *sessionId*, so we firstly check how the rows with identical *sessionIds* differ from each other. As there are many duplicated *sessionIds* and it takes a long time to show all of them, here only 20 duplicated pairs are shown (the number can be increased):"
   ]
  },
  {
   "cell_type": "code",
   "execution_count": 14,
   "metadata": {
    "collapsed": false
   },
   "outputs": [
    {
     "data": {
      "text/html": [
       "<div>\n",
       "<style scoped>\n",
       "    .dataframe tbody tr th:only-of-type {\n",
       "        vertical-align: middle;\n",
       "    }\n",
       "\n",
       "    .dataframe tbody tr th {\n",
       "        vertical-align: top;\n",
       "    }\n",
       "\n",
       "    .dataframe thead th {\n",
       "        text-align: right;\n",
       "    }\n",
       "</style>\n",
       "<table border=\"1\" class=\"dataframe\">\n",
       "  <thead>\n",
       "    <tr style=\"text-align: right;\">\n",
       "      <th></th>\n",
       "      <th>hits</th>\n",
       "      <th>pageviews</th>\n",
       "      <th>networkDomain</th>\n",
       "      <th>date</th>\n",
       "      <th>fullVisitorId</th>\n",
       "      <th>visitStartTime</th>\n",
       "    </tr>\n",
       "  </thead>\n",
       "  <tbody>\n",
       "    <tr>\n",
       "      <th>6760</th>\n",
       "      <td>35</td>\n",
       "      <td>32.0</td>\n",
       "      <td>(not set)</td>\n",
       "      <td>20170623</td>\n",
       "      <td>7980925080669177483</td>\n",
       "      <td>1498285182</td>\n",
       "    </tr>\n",
       "    <tr>\n",
       "      <th>50181</th>\n",
       "      <td>13</td>\n",
       "      <td>13.0</td>\n",
       "      <td>sbcglobal.net</td>\n",
       "      <td>20170624</td>\n",
       "      <td>7980925080669177483</td>\n",
       "      <td>1498287677</td>\n",
       "    </tr>\n",
       "  </tbody>\n",
       "</table>\n",
       "</div>"
      ],
      "text/plain": [
       "       hits  pageviews  networkDomain      date        fullVisitorId  \\\n",
       "6760     35       32.0      (not set)  20170623  7980925080669177483   \n",
       "50181    13       13.0  sbcglobal.net  20170624  7980925080669177483   \n",
       "\n",
       "       visitStartTime  \n",
       "6760       1498285182  \n",
       "50181      1498287677  "
      ]
     },
     "metadata": {},
     "output_type": "display_data"
    },
    {
     "data": {
      "text/html": [
       "<div>\n",
       "<style scoped>\n",
       "    .dataframe tbody tr th:only-of-type {\n",
       "        vertical-align: middle;\n",
       "    }\n",
       "\n",
       "    .dataframe tbody tr th {\n",
       "        vertical-align: top;\n",
       "    }\n",
       "\n",
       "    .dataframe thead th {\n",
       "        text-align: right;\n",
       "    }\n",
       "</style>\n",
       "<table border=\"1\" class=\"dataframe\">\n",
       "  <thead>\n",
       "    <tr style=\"text-align: right;\">\n",
       "      <th></th>\n",
       "      <th>hits</th>\n",
       "      <th>pageviews</th>\n",
       "      <th>bounces</th>\n",
       "      <th>networkDomain</th>\n",
       "      <th>date</th>\n",
       "      <th>visitStartTime</th>\n",
       "    </tr>\n",
       "  </thead>\n",
       "  <tbody>\n",
       "    <tr>\n",
       "      <th>73865</th>\n",
       "      <td>19</td>\n",
       "      <td>12.0</td>\n",
       "      <td>NaN</td>\n",
       "      <td>sbcglobal.net</td>\n",
       "      <td>20170617</td>\n",
       "      <td>1497682925</td>\n",
       "    </tr>\n",
       "    <tr>\n",
       "      <th>78892</th>\n",
       "      <td>1</td>\n",
       "      <td>1.0</td>\n",
       "      <td>1.0</td>\n",
       "      <td>(not set)</td>\n",
       "      <td>20170616</td>\n",
       "      <td>1497682650</td>\n",
       "    </tr>\n",
       "  </tbody>\n",
       "</table>\n",
       "</div>"
      ],
      "text/plain": [
       "       hits  pageviews  bounces  networkDomain      date  visitStartTime\n",
       "73865    19       12.0      NaN  sbcglobal.net  20170617      1497682925\n",
       "78892     1        1.0      1.0      (not set)  20170616      1497682650"
      ]
     },
     "metadata": {},
     "output_type": "display_data"
    },
    {
     "data": {
      "text/html": [
       "<div>\n",
       "<style scoped>\n",
       "    .dataframe tbody tr th:only-of-type {\n",
       "        vertical-align: middle;\n",
       "    }\n",
       "\n",
       "    .dataframe tbody tr th {\n",
       "        vertical-align: top;\n",
       "    }\n",
       "\n",
       "    .dataframe thead th {\n",
       "        text-align: right;\n",
       "    }\n",
       "</style>\n",
       "<table border=\"1\" class=\"dataframe\">\n",
       "  <thead>\n",
       "    <tr style=\"text-align: right;\">\n",
       "      <th></th>\n",
       "      <th>hits</th>\n",
       "      <th>pageviews</th>\n",
       "      <th>region</th>\n",
       "      <th>metro</th>\n",
       "      <th>city</th>\n",
       "      <th>date</th>\n",
       "      <th>visitStartTime</th>\n",
       "    </tr>\n",
       "  </thead>\n",
       "  <tbody>\n",
       "    <tr>\n",
       "      <th>73726</th>\n",
       "      <td>6</td>\n",
       "      <td>6.0</td>\n",
       "      <td>not available in demo dataset</td>\n",
       "      <td>not available in demo dataset</td>\n",
       "      <td>not available in demo dataset</td>\n",
       "      <td>20170617</td>\n",
       "      <td>1497683125</td>\n",
       "    </tr>\n",
       "    <tr>\n",
       "      <th>80071</th>\n",
       "      <td>4</td>\n",
       "      <td>4.0</td>\n",
       "      <td>Colorado</td>\n",
       "      <td>Denver CO</td>\n",
       "      <td>Denver</td>\n",
       "      <td>20170616</td>\n",
       "      <td>1497681738</td>\n",
       "    </tr>\n",
       "  </tbody>\n",
       "</table>\n",
       "</div>"
      ],
      "text/plain": [
       "       hits  pageviews                         region  \\\n",
       "73726     6        6.0  not available in demo dataset   \n",
       "80071     4        4.0                       Colorado   \n",
       "\n",
       "                               metro                           city      date  \\\n",
       "73726  not available in demo dataset  not available in demo dataset  20170617   \n",
       "80071                      Denver CO                         Denver  20170616   \n",
       "\n",
       "       visitStartTime  \n",
       "73726      1497683125  \n",
       "80071      1497681738  "
      ]
     },
     "metadata": {},
     "output_type": "display_data"
    },
    {
     "data": {
      "text/html": [
       "<div>\n",
       "<style scoped>\n",
       "    .dataframe tbody tr th:only-of-type {\n",
       "        vertical-align: middle;\n",
       "    }\n",
       "\n",
       "    .dataframe tbody tr th {\n",
       "        vertical-align: top;\n",
       "    }\n",
       "\n",
       "    .dataframe thead th {\n",
       "        text-align: right;\n",
       "    }\n",
       "</style>\n",
       "<table border=\"1\" class=\"dataframe\">\n",
       "  <thead>\n",
       "    <tr style=\"text-align: right;\">\n",
       "      <th></th>\n",
       "      <th>hits</th>\n",
       "      <th>pageviews</th>\n",
       "      <th>date</th>\n",
       "      <th>visitStartTime</th>\n",
       "    </tr>\n",
       "  </thead>\n",
       "  <tbody>\n",
       "    <tr>\n",
       "      <th>83399</th>\n",
       "      <td>33</td>\n",
       "      <td>27.0</td>\n",
       "      <td>20161129</td>\n",
       "      <td>1480492063</td>\n",
       "    </tr>\n",
       "    <tr>\n",
       "      <th>89617</th>\n",
       "      <td>11</td>\n",
       "      <td>7.0</td>\n",
       "      <td>20161130</td>\n",
       "      <td>1480492882</td>\n",
       "    </tr>\n",
       "  </tbody>\n",
       "</table>\n",
       "</div>"
      ],
      "text/plain": [
       "       hits  pageviews      date  visitStartTime\n",
       "83399    33       27.0  20161129      1480492063\n",
       "89617    11        7.0  20161130      1480492882"
      ]
     },
     "metadata": {},
     "output_type": "display_data"
    },
    {
     "data": {
      "text/html": [
       "<div>\n",
       "<style scoped>\n",
       "    .dataframe tbody tr th:only-of-type {\n",
       "        vertical-align: middle;\n",
       "    }\n",
       "\n",
       "    .dataframe tbody tr th {\n",
       "        vertical-align: top;\n",
       "    }\n",
       "\n",
       "    .dataframe thead th {\n",
       "        text-align: right;\n",
       "    }\n",
       "</style>\n",
       "<table border=\"1\" class=\"dataframe\">\n",
       "  <thead>\n",
       "    <tr style=\"text-align: right;\">\n",
       "      <th></th>\n",
       "      <th>hits</th>\n",
       "      <th>pageviews</th>\n",
       "      <th>bounces</th>\n",
       "      <th>date</th>\n",
       "      <th>visitStartTime</th>\n",
       "    </tr>\n",
       "  </thead>\n",
       "  <tbody>\n",
       "    <tr>\n",
       "      <th>87304</th>\n",
       "      <td>1</td>\n",
       "      <td>1.0</td>\n",
       "      <td>1.0</td>\n",
       "      <td>20161129</td>\n",
       "      <td>1480492790</td>\n",
       "    </tr>\n",
       "    <tr>\n",
       "      <th>89962</th>\n",
       "      <td>69</td>\n",
       "      <td>35.0</td>\n",
       "      <td>NaN</td>\n",
       "      <td>20161130</td>\n",
       "      <td>1480492842</td>\n",
       "    </tr>\n",
       "  </tbody>\n",
       "</table>\n",
       "</div>"
      ],
      "text/plain": [
       "       hits  pageviews  bounces      date  visitStartTime\n",
       "87304     1        1.0      1.0  20161129      1480492790\n",
       "89962    69       35.0      NaN  20161130      1480492842"
      ]
     },
     "metadata": {},
     "output_type": "display_data"
    },
    {
     "data": {
      "text/html": [
       "<div>\n",
       "<style scoped>\n",
       "    .dataframe tbody tr th:only-of-type {\n",
       "        vertical-align: middle;\n",
       "    }\n",
       "\n",
       "    .dataframe tbody tr th {\n",
       "        vertical-align: top;\n",
       "    }\n",
       "\n",
       "    .dataframe thead th {\n",
       "        text-align: right;\n",
       "    }\n",
       "</style>\n",
       "<table border=\"1\" class=\"dataframe\">\n",
       "  <thead>\n",
       "    <tr style=\"text-align: right;\">\n",
       "      <th></th>\n",
       "      <th>date</th>\n",
       "      <th>visitStartTime</th>\n",
       "    </tr>\n",
       "  </thead>\n",
       "  <tbody>\n",
       "    <tr>\n",
       "      <th>85681</th>\n",
       "      <td>20161129</td>\n",
       "      <td>1480492793</td>\n",
       "    </tr>\n",
       "    <tr>\n",
       "      <th>91550</th>\n",
       "      <td>20161130</td>\n",
       "      <td>1480492806</td>\n",
       "    </tr>\n",
       "  </tbody>\n",
       "</table>\n",
       "</div>"
      ],
      "text/plain": [
       "           date  visitStartTime\n",
       "85681  20161129      1480492793\n",
       "91550  20161130      1480492806"
      ]
     },
     "metadata": {},
     "output_type": "display_data"
    },
    {
     "data": {
      "text/html": [
       "<div>\n",
       "<style scoped>\n",
       "    .dataframe tbody tr th:only-of-type {\n",
       "        vertical-align: middle;\n",
       "    }\n",
       "\n",
       "    .dataframe tbody tr th {\n",
       "        vertical-align: top;\n",
       "    }\n",
       "\n",
       "    .dataframe thead th {\n",
       "        text-align: right;\n",
       "    }\n",
       "</style>\n",
       "<table border=\"1\" class=\"dataframe\">\n",
       "  <thead>\n",
       "    <tr style=\"text-align: right;\">\n",
       "      <th></th>\n",
       "      <th>hits</th>\n",
       "      <th>pageviews</th>\n",
       "      <th>bounces</th>\n",
       "      <th>date</th>\n",
       "      <th>visitStartTime</th>\n",
       "    </tr>\n",
       "  </thead>\n",
       "  <tbody>\n",
       "    <tr>\n",
       "      <th>85383</th>\n",
       "      <td>1</td>\n",
       "      <td>1.0</td>\n",
       "      <td>1.0</td>\n",
       "      <td>20161129</td>\n",
       "      <td>1480492763</td>\n",
       "    </tr>\n",
       "    <tr>\n",
       "      <th>92145</th>\n",
       "      <td>2</td>\n",
       "      <td>2.0</td>\n",
       "      <td>NaN</td>\n",
       "      <td>20161130</td>\n",
       "      <td>1480492812</td>\n",
       "    </tr>\n",
       "  </tbody>\n",
       "</table>\n",
       "</div>"
      ],
      "text/plain": [
       "       hits  pageviews  bounces      date  visitStartTime\n",
       "85383     1        1.0      1.0  20161129      1480492763\n",
       "92145     2        2.0      NaN  20161130      1480492812"
      ]
     },
     "metadata": {},
     "output_type": "display_data"
    },
    {
     "data": {
      "text/html": [
       "<div>\n",
       "<style scoped>\n",
       "    .dataframe tbody tr th:only-of-type {\n",
       "        vertical-align: middle;\n",
       "    }\n",
       "\n",
       "    .dataframe tbody tr th {\n",
       "        vertical-align: top;\n",
       "    }\n",
       "\n",
       "    .dataframe thead th {\n",
       "        text-align: right;\n",
       "    }\n",
       "</style>\n",
       "<table border=\"1\" class=\"dataframe\">\n",
       "  <thead>\n",
       "    <tr style=\"text-align: right;\">\n",
       "      <th></th>\n",
       "      <th>hits</th>\n",
       "      <th>pageviews</th>\n",
       "      <th>bounces</th>\n",
       "      <th>networkDomain</th>\n",
       "      <th>date</th>\n",
       "      <th>fullVisitorId</th>\n",
       "      <th>visitStartTime</th>\n",
       "    </tr>\n",
       "  </thead>\n",
       "  <tbody>\n",
       "    <tr>\n",
       "      <th>57518</th>\n",
       "      <td>1</td>\n",
       "      <td>1.0</td>\n",
       "      <td>1.0</td>\n",
       "      <td>com</td>\n",
       "      <td>20170420</td>\n",
       "      <td>8578907758685823541</td>\n",
       "      <td>1492757496</td>\n",
       "    </tr>\n",
       "    <tr>\n",
       "      <th>118127</th>\n",
       "      <td>31</td>\n",
       "      <td>21.0</td>\n",
       "      <td>NaN</td>\n",
       "      <td>pldt.net</td>\n",
       "      <td>20170421</td>\n",
       "      <td>8578907758685823541</td>\n",
       "      <td>1492758303</td>\n",
       "    </tr>\n",
       "  </tbody>\n",
       "</table>\n",
       "</div>"
      ],
      "text/plain": [
       "        hits  pageviews  bounces networkDomain      date        fullVisitorId  \\\n",
       "57518      1        1.0      1.0           com  20170420  8578907758685823541   \n",
       "118127    31       21.0      NaN      pldt.net  20170421  8578907758685823541   \n",
       "\n",
       "        visitStartTime  \n",
       "57518       1492757496  \n",
       "118127      1492758303  "
      ]
     },
     "metadata": {},
     "output_type": "display_data"
    },
    {
     "data": {
      "text/html": [
       "<div>\n",
       "<style scoped>\n",
       "    .dataframe tbody tr th:only-of-type {\n",
       "        vertical-align: middle;\n",
       "    }\n",
       "\n",
       "    .dataframe tbody tr th {\n",
       "        vertical-align: top;\n",
       "    }\n",
       "\n",
       "    .dataframe thead th {\n",
       "        text-align: right;\n",
       "    }\n",
       "</style>\n",
       "<table border=\"1\" class=\"dataframe\">\n",
       "  <thead>\n",
       "    <tr style=\"text-align: right;\">\n",
       "      <th></th>\n",
       "      <th>hits</th>\n",
       "      <th>pageviews</th>\n",
       "      <th>bounces</th>\n",
       "      <th>date</th>\n",
       "      <th>fullVisitorId</th>\n",
       "      <th>visitStartTime</th>\n",
       "    </tr>\n",
       "  </thead>\n",
       "  <tbody>\n",
       "    <tr>\n",
       "      <th>58744</th>\n",
       "      <td>3</td>\n",
       "      <td>2.0</td>\n",
       "      <td>NaN</td>\n",
       "      <td>20170420</td>\n",
       "      <td>2801742746913009915</td>\n",
       "      <td>1492757406</td>\n",
       "    </tr>\n",
       "    <tr>\n",
       "      <th>119422</th>\n",
       "      <td>1</td>\n",
       "      <td>1.0</td>\n",
       "      <td>1.0</td>\n",
       "      <td>20170421</td>\n",
       "      <td>2801742746913009915</td>\n",
       "      <td>1492758135</td>\n",
       "    </tr>\n",
       "  </tbody>\n",
       "</table>\n",
       "</div>"
      ],
      "text/plain": [
       "        hits  pageviews  bounces      date        fullVisitorId  \\\n",
       "58744      3        2.0      NaN  20170420  2801742746913009915   \n",
       "119422     1        1.0      1.0  20170421  2801742746913009915   \n",
       "\n",
       "        visitStartTime  \n",
       "58744       1492757406  \n",
       "119422      1492758135  "
      ]
     },
     "metadata": {},
     "output_type": "display_data"
    },
    {
     "data": {
      "text/html": [
       "<div>\n",
       "<style scoped>\n",
       "    .dataframe tbody tr th:only-of-type {\n",
       "        vertical-align: middle;\n",
       "    }\n",
       "\n",
       "    .dataframe tbody tr th {\n",
       "        vertical-align: top;\n",
       "    }\n",
       "\n",
       "    .dataframe thead th {\n",
       "        text-align: right;\n",
       "    }\n",
       "</style>\n",
       "<table border=\"1\" class=\"dataframe\">\n",
       "  <thead>\n",
       "    <tr style=\"text-align: right;\">\n",
       "      <th></th>\n",
       "      <th>hits</th>\n",
       "      <th>date</th>\n",
       "      <th>visitStartTime</th>\n",
       "    </tr>\n",
       "  </thead>\n",
       "  <tbody>\n",
       "    <tr>\n",
       "      <th>134236</th>\n",
       "      <td>7</td>\n",
       "      <td>20170116</td>\n",
       "      <td>1484554326</td>\n",
       "    </tr>\n",
       "    <tr>\n",
       "      <th>135770</th>\n",
       "      <td>5</td>\n",
       "      <td>20170115</td>\n",
       "      <td>1484552919</td>\n",
       "    </tr>\n",
       "  </tbody>\n",
       "</table>\n",
       "</div>"
      ],
      "text/plain": [
       "        hits      date  visitStartTime\n",
       "134236     7  20170116      1484554326\n",
       "135770     5  20170115      1484552919"
      ]
     },
     "metadata": {},
     "output_type": "display_data"
    },
    {
     "data": {
      "text/html": [
       "<div>\n",
       "<style scoped>\n",
       "    .dataframe tbody tr th:only-of-type {\n",
       "        vertical-align: middle;\n",
       "    }\n",
       "\n",
       "    .dataframe tbody tr th {\n",
       "        vertical-align: top;\n",
       "    }\n",
       "\n",
       "    .dataframe thead th {\n",
       "        text-align: right;\n",
       "    }\n",
       "</style>\n",
       "<table border=\"1\" class=\"dataframe\">\n",
       "  <thead>\n",
       "    <tr style=\"text-align: right;\">\n",
       "      <th></th>\n",
       "      <th>hits</th>\n",
       "      <th>pageviews</th>\n",
       "      <th>bounces</th>\n",
       "      <th>networkDomain</th>\n",
       "      <th>date</th>\n",
       "      <th>visitStartTime</th>\n",
       "    </tr>\n",
       "  </thead>\n",
       "  <tbody>\n",
       "    <tr>\n",
       "      <th>133612</th>\n",
       "      <td>1</td>\n",
       "      <td>1.0</td>\n",
       "      <td>1.0</td>\n",
       "      <td>comcast.net</td>\n",
       "      <td>20170116</td>\n",
       "      <td>1484553677</td>\n",
       "    </tr>\n",
       "    <tr>\n",
       "      <th>135809</th>\n",
       "      <td>6</td>\n",
       "      <td>6.0</td>\n",
       "      <td>NaN</td>\n",
       "      <td>(not set)</td>\n",
       "      <td>20170115</td>\n",
       "      <td>1484553205</td>\n",
       "    </tr>\n",
       "  </tbody>\n",
       "</table>\n",
       "</div>"
      ],
      "text/plain": [
       "        hits  pageviews  bounces networkDomain      date  visitStartTime\n",
       "133612     1        1.0      1.0   comcast.net  20170116      1484553677\n",
       "135809     6        6.0      NaN     (not set)  20170115      1484553205"
      ]
     },
     "metadata": {},
     "output_type": "display_data"
    },
    {
     "data": {
      "text/html": [
       "<div>\n",
       "<style scoped>\n",
       "    .dataframe tbody tr th:only-of-type {\n",
       "        vertical-align: middle;\n",
       "    }\n",
       "\n",
       "    .dataframe tbody tr th {\n",
       "        vertical-align: top;\n",
       "    }\n",
       "\n",
       "    .dataframe thead th {\n",
       "        text-align: right;\n",
       "    }\n",
       "</style>\n",
       "<table border=\"1\" class=\"dataframe\">\n",
       "  <thead>\n",
       "    <tr style=\"text-align: right;\">\n",
       "      <th></th>\n",
       "      <th>hits</th>\n",
       "      <th>pageviews</th>\n",
       "      <th>date</th>\n",
       "      <th>visitStartTime</th>\n",
       "    </tr>\n",
       "  </thead>\n",
       "  <tbody>\n",
       "    <tr>\n",
       "      <th>134383</th>\n",
       "      <td>14</td>\n",
       "      <td>13.0</td>\n",
       "      <td>20170116</td>\n",
       "      <td>1484553605</td>\n",
       "    </tr>\n",
       "    <tr>\n",
       "      <th>136021</th>\n",
       "      <td>22</td>\n",
       "      <td>19.0</td>\n",
       "      <td>20170115</td>\n",
       "      <td>1484552809</td>\n",
       "    </tr>\n",
       "  </tbody>\n",
       "</table>\n",
       "</div>"
      ],
      "text/plain": [
       "        hits  pageviews      date  visitStartTime\n",
       "134383    14       13.0  20170116      1484553605\n",
       "136021    22       19.0  20170115      1484552809"
      ]
     },
     "metadata": {},
     "output_type": "display_data"
    },
    {
     "data": {
      "text/html": [
       "<div>\n",
       "<style scoped>\n",
       "    .dataframe tbody tr th:only-of-type {\n",
       "        vertical-align: middle;\n",
       "    }\n",
       "\n",
       "    .dataframe tbody tr th {\n",
       "        vertical-align: top;\n",
       "    }\n",
       "\n",
       "    .dataframe thead th {\n",
       "        text-align: right;\n",
       "    }\n",
       "</style>\n",
       "<table border=\"1\" class=\"dataframe\">\n",
       "  <thead>\n",
       "    <tr style=\"text-align: right;\">\n",
       "      <th></th>\n",
       "      <th>hits</th>\n",
       "      <th>pageviews</th>\n",
       "      <th>bounces</th>\n",
       "      <th>date</th>\n",
       "      <th>visitStartTime</th>\n",
       "    </tr>\n",
       "  </thead>\n",
       "  <tbody>\n",
       "    <tr>\n",
       "      <th>7655</th>\n",
       "      <td>2</td>\n",
       "      <td>2.0</td>\n",
       "      <td>NaN</td>\n",
       "      <td>20170312</td>\n",
       "      <td>1489305768</td>\n",
       "    </tr>\n",
       "    <tr>\n",
       "      <th>146875</th>\n",
       "      <td>1</td>\n",
       "      <td>1.0</td>\n",
       "      <td>1.0</td>\n",
       "      <td>20170311</td>\n",
       "      <td>1489304451</td>\n",
       "    </tr>\n",
       "  </tbody>\n",
       "</table>\n",
       "</div>"
      ],
      "text/plain": [
       "        hits  pageviews  bounces      date  visitStartTime\n",
       "7655       2        2.0      NaN  20170312      1489305768\n",
       "146875     1        1.0      1.0  20170311      1489304451"
      ]
     },
     "metadata": {},
     "output_type": "display_data"
    },
    {
     "data": {
      "text/html": [
       "<div>\n",
       "<style scoped>\n",
       "    .dataframe tbody tr th:only-of-type {\n",
       "        vertical-align: middle;\n",
       "    }\n",
       "\n",
       "    .dataframe tbody tr th {\n",
       "        vertical-align: top;\n",
       "    }\n",
       "\n",
       "    .dataframe thead th {\n",
       "        text-align: right;\n",
       "    }\n",
       "</style>\n",
       "<table border=\"1\" class=\"dataframe\">\n",
       "  <thead>\n",
       "    <tr style=\"text-align: right;\">\n",
       "      <th></th>\n",
       "      <th>date</th>\n",
       "      <th>visitStartTime</th>\n",
       "    </tr>\n",
       "  </thead>\n",
       "  <tbody>\n",
       "    <tr>\n",
       "      <th>129161</th>\n",
       "      <td>20170310</td>\n",
       "      <td>1489219057</td>\n",
       "    </tr>\n",
       "    <tr>\n",
       "      <th>147019</th>\n",
       "      <td>20170311</td>\n",
       "      <td>1489219267</td>\n",
       "    </tr>\n",
       "  </tbody>\n",
       "</table>\n",
       "</div>"
      ],
      "text/plain": [
       "            date  visitStartTime\n",
       "129161  20170310      1489219057\n",
       "147019  20170311      1489219267"
      ]
     },
     "metadata": {},
     "output_type": "display_data"
    },
    {
     "data": {
      "text/html": [
       "<div>\n",
       "<style scoped>\n",
       "    .dataframe tbody tr th:only-of-type {\n",
       "        vertical-align: middle;\n",
       "    }\n",
       "\n",
       "    .dataframe tbody tr th {\n",
       "        vertical-align: top;\n",
       "    }\n",
       "\n",
       "    .dataframe thead th {\n",
       "        text-align: right;\n",
       "    }\n",
       "</style>\n",
       "<table border=\"1\" class=\"dataframe\">\n",
       "  <thead>\n",
       "    <tr style=\"text-align: right;\">\n",
       "      <th></th>\n",
       "      <th>hits</th>\n",
       "      <th>pageviews</th>\n",
       "      <th>bounces</th>\n",
       "      <th>date</th>\n",
       "      <th>visitStartTime</th>\n",
       "    </tr>\n",
       "  </thead>\n",
       "  <tbody>\n",
       "    <tr>\n",
       "      <th>130103</th>\n",
       "      <td>34</td>\n",
       "      <td>23.0</td>\n",
       "      <td>NaN</td>\n",
       "      <td>20170310</td>\n",
       "      <td>1489216127</td>\n",
       "    </tr>\n",
       "    <tr>\n",
       "      <th>147059</th>\n",
       "      <td>1</td>\n",
       "      <td>1.0</td>\n",
       "      <td>1.0</td>\n",
       "      <td>20170311</td>\n",
       "      <td>1489219484</td>\n",
       "    </tr>\n",
       "  </tbody>\n",
       "</table>\n",
       "</div>"
      ],
      "text/plain": [
       "        hits  pageviews  bounces      date  visitStartTime\n",
       "130103    34       23.0      NaN  20170310      1489216127\n",
       "147059     1        1.0      1.0  20170311      1489219484"
      ]
     },
     "metadata": {},
     "output_type": "display_data"
    },
    {
     "data": {
      "text/html": [
       "<div>\n",
       "<style scoped>\n",
       "    .dataframe tbody tr th:only-of-type {\n",
       "        vertical-align: middle;\n",
       "    }\n",
       "\n",
       "    .dataframe tbody tr th {\n",
       "        vertical-align: top;\n",
       "    }\n",
       "\n",
       "    .dataframe thead th {\n",
       "        text-align: right;\n",
       "    }\n",
       "</style>\n",
       "<table border=\"1\" class=\"dataframe\">\n",
       "  <thead>\n",
       "    <tr style=\"text-align: right;\">\n",
       "      <th></th>\n",
       "      <th>hits</th>\n",
       "      <th>pageviews</th>\n",
       "      <th>bounces</th>\n",
       "      <th>date</th>\n",
       "      <th>visitStartTime</th>\n",
       "    </tr>\n",
       "  </thead>\n",
       "  <tbody>\n",
       "    <tr>\n",
       "      <th>7250</th>\n",
       "      <td>1</td>\n",
       "      <td>1.0</td>\n",
       "      <td>1.0</td>\n",
       "      <td>20170312</td>\n",
       "      <td>1489305836</td>\n",
       "    </tr>\n",
       "    <tr>\n",
       "      <th>147457</th>\n",
       "      <td>2</td>\n",
       "      <td>2.0</td>\n",
       "      <td>NaN</td>\n",
       "      <td>20170311</td>\n",
       "      <td>1489304458</td>\n",
       "    </tr>\n",
       "  </tbody>\n",
       "</table>\n",
       "</div>"
      ],
      "text/plain": [
       "        hits  pageviews  bounces      date  visitStartTime\n",
       "7250       1        1.0      1.0  20170312      1489305836\n",
       "147457     2        2.0      NaN  20170311      1489304458"
      ]
     },
     "metadata": {},
     "output_type": "display_data"
    },
    {
     "data": {
      "text/html": [
       "<div>\n",
       "<style scoped>\n",
       "    .dataframe tbody tr th:only-of-type {\n",
       "        vertical-align: middle;\n",
       "    }\n",
       "\n",
       "    .dataframe tbody tr th {\n",
       "        vertical-align: top;\n",
       "    }\n",
       "\n",
       "    .dataframe thead th {\n",
       "        text-align: right;\n",
       "    }\n",
       "</style>\n",
       "<table border=\"1\" class=\"dataframe\">\n",
       "  <thead>\n",
       "    <tr style=\"text-align: right;\">\n",
       "      <th></th>\n",
       "      <th>hits</th>\n",
       "      <th>pageviews</th>\n",
       "      <th>bounces</th>\n",
       "      <th>date</th>\n",
       "      <th>visitStartTime</th>\n",
       "    </tr>\n",
       "  </thead>\n",
       "  <tbody>\n",
       "    <tr>\n",
       "      <th>128693</th>\n",
       "      <td>1</td>\n",
       "      <td>1.0</td>\n",
       "      <td>1.0</td>\n",
       "      <td>20170310</td>\n",
       "      <td>1489218878</td>\n",
       "    </tr>\n",
       "    <tr>\n",
       "      <th>147488</th>\n",
       "      <td>2</td>\n",
       "      <td>2.0</td>\n",
       "      <td>NaN</td>\n",
       "      <td>20170311</td>\n",
       "      <td>1489219967</td>\n",
       "    </tr>\n",
       "  </tbody>\n",
       "</table>\n",
       "</div>"
      ],
      "text/plain": [
       "        hits  pageviews  bounces      date  visitStartTime\n",
       "128693     1        1.0      1.0  20170310      1489218878\n",
       "147488     2        2.0      NaN  20170311      1489219967"
      ]
     },
     "metadata": {},
     "output_type": "display_data"
    },
    {
     "data": {
      "text/html": [
       "<div>\n",
       "<style scoped>\n",
       "    .dataframe tbody tr th:only-of-type {\n",
       "        vertical-align: middle;\n",
       "    }\n",
       "\n",
       "    .dataframe tbody tr th {\n",
       "        vertical-align: top;\n",
       "    }\n",
       "\n",
       "    .dataframe thead th {\n",
       "        text-align: right;\n",
       "    }\n",
       "</style>\n",
       "<table border=\"1\" class=\"dataframe\">\n",
       "  <thead>\n",
       "    <tr style=\"text-align: right;\">\n",
       "      <th></th>\n",
       "      <th>hits</th>\n",
       "      <th>pageviews</th>\n",
       "      <th>bounces</th>\n",
       "      <th>region</th>\n",
       "      <th>metro</th>\n",
       "      <th>city</th>\n",
       "      <th>date</th>\n",
       "      <th>visitStartTime</th>\n",
       "    </tr>\n",
       "  </thead>\n",
       "  <tbody>\n",
       "    <tr>\n",
       "      <th>7298</th>\n",
       "      <td>1</td>\n",
       "      <td>1.0</td>\n",
       "      <td>1.0</td>\n",
       "      <td>Tokyo</td>\n",
       "      <td>(not set)</td>\n",
       "      <td>Minato</td>\n",
       "      <td>20170312</td>\n",
       "      <td>1489305741</td>\n",
       "    </tr>\n",
       "    <tr>\n",
       "      <th>147684</th>\n",
       "      <td>4</td>\n",
       "      <td>4.0</td>\n",
       "      <td>NaN</td>\n",
       "      <td>not available in demo dataset</td>\n",
       "      <td>not available in demo dataset</td>\n",
       "      <td>not available in demo dataset</td>\n",
       "      <td>20170311</td>\n",
       "      <td>1489304431</td>\n",
       "    </tr>\n",
       "  </tbody>\n",
       "</table>\n",
       "</div>"
      ],
      "text/plain": [
       "        hits  pageviews  bounces                         region  \\\n",
       "7298       1        1.0      1.0                          Tokyo   \n",
       "147684     4        4.0      NaN  not available in demo dataset   \n",
       "\n",
       "                                metro                           city  \\\n",
       "7298                        (not set)                         Minato   \n",
       "147684  not available in demo dataset  not available in demo dataset   \n",
       "\n",
       "            date  visitStartTime  \n",
       "7298    20170312      1489305741  \n",
       "147684  20170311      1489304431  "
      ]
     },
     "metadata": {},
     "output_type": "display_data"
    },
    {
     "data": {
      "text/html": [
       "<div>\n",
       "<style scoped>\n",
       "    .dataframe tbody tr th:only-of-type {\n",
       "        vertical-align: middle;\n",
       "    }\n",
       "\n",
       "    .dataframe tbody tr th {\n",
       "        vertical-align: top;\n",
       "    }\n",
       "\n",
       "    .dataframe thead th {\n",
       "        text-align: right;\n",
       "    }\n",
       "</style>\n",
       "<table border=\"1\" class=\"dataframe\">\n",
       "  <thead>\n",
       "    <tr style=\"text-align: right;\">\n",
       "      <th></th>\n",
       "      <th>hits</th>\n",
       "      <th>pageviews</th>\n",
       "      <th>region</th>\n",
       "      <th>metro</th>\n",
       "      <th>city</th>\n",
       "      <th>date</th>\n",
       "      <th>visitStartTime</th>\n",
       "    </tr>\n",
       "  </thead>\n",
       "  <tbody>\n",
       "    <tr>\n",
       "      <th>129329</th>\n",
       "      <td>2</td>\n",
       "      <td>2.0</td>\n",
       "      <td>not available in demo dataset</td>\n",
       "      <td>not available in demo dataset</td>\n",
       "      <td>not available in demo dataset</td>\n",
       "      <td>20170310</td>\n",
       "      <td>1489219054</td>\n",
       "    </tr>\n",
       "    <tr>\n",
       "      <th>147826</th>\n",
       "      <td>6</td>\n",
       "      <td>6.0</td>\n",
       "      <td>Gujarat</td>\n",
       "      <td>(not set)</td>\n",
       "      <td>Ahmedabad</td>\n",
       "      <td>20170311</td>\n",
       "      <td>1489219235</td>\n",
       "    </tr>\n",
       "  </tbody>\n",
       "</table>\n",
       "</div>"
      ],
      "text/plain": [
       "        hits  pageviews                         region  \\\n",
       "129329     2        2.0  not available in demo dataset   \n",
       "147826     6        6.0                        Gujarat   \n",
       "\n",
       "                                metro                           city  \\\n",
       "129329  not available in demo dataset  not available in demo dataset   \n",
       "147826                      (not set)                      Ahmedabad   \n",
       "\n",
       "            date  visitStartTime  \n",
       "129329  20170310      1489219054  \n",
       "147826  20170311      1489219235  "
      ]
     },
     "metadata": {},
     "output_type": "display_data"
    },
    {
     "data": {
      "text/html": [
       "<div>\n",
       "<style scoped>\n",
       "    .dataframe tbody tr th:only-of-type {\n",
       "        vertical-align: middle;\n",
       "    }\n",
       "\n",
       "    .dataframe tbody tr th {\n",
       "        vertical-align: top;\n",
       "    }\n",
       "\n",
       "    .dataframe thead th {\n",
       "        text-align: right;\n",
       "    }\n",
       "</style>\n",
       "<table border=\"1\" class=\"dataframe\">\n",
       "  <thead>\n",
       "    <tr style=\"text-align: right;\">\n",
       "      <th></th>\n",
       "      <th>hits</th>\n",
       "      <th>pageviews</th>\n",
       "      <th>bounces</th>\n",
       "      <th>date</th>\n",
       "      <th>visitStartTime</th>\n",
       "    </tr>\n",
       "  </thead>\n",
       "  <tbody>\n",
       "    <tr>\n",
       "      <th>29904</th>\n",
       "      <td>2</td>\n",
       "      <td>2.0</td>\n",
       "      <td>NaN</td>\n",
       "      <td>20170621</td>\n",
       "      <td>1498114691</td>\n",
       "    </tr>\n",
       "    <tr>\n",
       "      <th>149158</th>\n",
       "      <td>1</td>\n",
       "      <td>1.0</td>\n",
       "      <td>1.0</td>\n",
       "      <td>20170622</td>\n",
       "      <td>1498115001</td>\n",
       "    </tr>\n",
       "  </tbody>\n",
       "</table>\n",
       "</div>"
      ],
      "text/plain": [
       "        hits  pageviews  bounces      date  visitStartTime\n",
       "29904      2        2.0      NaN  20170621      1498114691\n",
       "149158     1        1.0      1.0  20170622      1498115001"
      ]
     },
     "metadata": {},
     "output_type": "display_data"
    }
   ],
   "source": [
    "duplicated_ids = train[\"sessionId\"][train[\"sessionId\"].duplicated()].tolist()\n",
    "from IPython.display import display \n",
    "j = 0\n",
    "for i in duplicated_ids:\n",
    "    dup = train[train[\"sessionId\"] == i]\n",
    "    columns = []\n",
    "    for col in dup.columns.values:\n",
    "        if(len(dup[col].unique()) > 1):\n",
    "            columns.append(col)\n",
    "    display(dup[columns])\n",
    "    j += 1\n",
    "    if(j == 20):\n",
    "        break"
   ]
  },
  {
   "cell_type": "markdown",
   "metadata": {},
   "source": [
    "It seems we can safely remove rows with duplicated ids, since it seems they only differ in time (and also the number of *hits* and *pageViews*, which apparently makes no differece, but must be checked later). The other differences are mostly caused by missing values. This duplication can be caused by changing the date during the session (the dates of these transactions are consecutive), e.g. transactions which have been started before 12:00 am and lasted until the next day. this claim can be checked later by converting the time column to a timestamp:"
   ]
  },
  {
   "cell_type": "code",
   "execution_count": 15,
   "metadata": {
    "collapsed": true
   },
   "outputs": [],
   "source": [
    "train.drop(train[train[\"sessionId\"].duplicated()].index, inplace = True)\n",
    "test.drop(test[test[\"sessionId\"].duplicated()].index, inplace = True)"
   ]
  },
  {
   "cell_type": "code",
   "execution_count": 16,
   "metadata": {
    "collapsed": false
   },
   "outputs": [
    {
     "data": {
      "text/plain": [
       "(902755, 35)"
      ]
     },
     "execution_count": 16,
     "metadata": {},
     "output_type": "execute_result"
    }
   ],
   "source": [
    "train.shape"
   ]
  },
  {
   "cell_type": "markdown",
   "metadata": {},
   "source": [
    "As an alternative we can use the sum of *hits* and *pageViews* for duplicated *sessionIds*, instead of using one of them. This approach seems more logical, if hits and views indicate the total number of *hits* and *pageViews* occured during the transaction. Another important thing to be considered is that if the duplicated IDs represent one transaction, everywhere we have missing values only for one of them, we must replace them by the value of the other row."
   ]
  },
  {
   "cell_type": "markdown",
   "metadata": {},
   "source": [
    "### <font color='blue'>Removing useless IDs"
   ]
  },
  {
   "cell_type": "markdown",
   "metadata": {},
   "source": [
    "As we noticed earlier, *sessionId* contain both *visitId* and *fullVisitorId*. Hence we can remove them without losing any information.:"
   ]
  },
  {
   "cell_type": "code",
   "execution_count": 17,
   "metadata": {
    "collapsed": false
   },
   "outputs": [],
   "source": [
    "train.drop('visitId',axis=1, inplace=True)\n",
    "train.drop('fullVisitorId',axis=1, inplace=True)\n",
    "\n",
    "test.drop('visitId',axis=1, inplace=True)\n",
    "test.drop('fullVisitorId',axis=1, inplace=True)\n",
    "\n",
    "numerics.remove('visitId')\n",
    "categoricals.remove('fullVisitorId')"
   ]
  },
  {
   "cell_type": "markdown",
   "metadata": {},
   "source": [
    "--------------------------------------------------------------------------------------------------------------------------------"
   ]
  },
  {
   "cell_type": "markdown",
   "metadata": {},
   "source": [
    "# <font color='red'> Writing the final dataframe to .csv"
   ]
  },
  {
   "cell_type": "code",
   "execution_count": 18,
   "metadata": {
    "collapsed": true
   },
   "outputs": [],
   "source": [
    "train.to_csv('train1.csv', index=False, encoding='utf-8')\n",
    "test.to_csv('test1.csv', index=False, encoding='utf-8')"
   ]
  }
 ],
 "metadata": {
  "kernelspec": {
   "display_name": "Python 3",
   "language": "python",
   "name": "python3"
  },
  "language_info": {
   "codemirror_mode": {
    "name": "ipython",
    "version": 3
   },
   "file_extension": ".py",
   "mimetype": "text/x-python",
   "name": "python",
   "nbconvert_exporter": "python",
   "pygments_lexer": "ipython3",
   "version": "3.6.7"
  }
 },
 "nbformat": 4,
 "nbformat_minor": 2
}
