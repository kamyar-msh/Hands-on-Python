{
 "cells": [
  {
   "cell_type": "markdown",
   "metadata": {},
   "source": [
    "# <font color='red'> Tic Tac Toe Complete Game Tree"
   ]
  },
  {
   "cell_type": "markdown",
   "metadata": {},
   "source": [
    "In this notebook, I aim to implement the building of the complete game tree of tic-tac-toe. This game tree starts with an empty board and player X is the first player to move. The final goal is to calculate the number of nodes in this game tree, which indicates the total number of possible allowed states can be observed in tic-tac-toe.\n",
    "\n",
    "In the following, 1 represents X player, -1 represents O, and 0 is used to represent a draw."
   ]
  },
  {
   "cell_type": "code",
   "execution_count": 2,
   "metadata": {
    "collapsed": true
   },
   "outputs": [],
   "source": [
    "import numpy as np"
   ]
  },
  {
   "cell_type": "markdown",
   "metadata": {},
   "source": [
    "First of all, a class to represent nodes. This class will be used later to build a tree, as a tree is a collection of nodes.\n",
    "There are some important properties for a node class:\n",
    "<ol>\n",
    "1- Node number, which indicates the chronological order in which nodes have been created.<br>\n",
    "2- The board state stored in the node.<br>\n",
    "3- Parent of a node, which is the node from which the current board state is generated.<br>\n",
    "4- Children of the node, which are states generated from the current node.<br>\n",
    "5- An attribute to indicate whether the node is a leaf.<br>\n",
    "6- Three attributes to show whether the current node indicates a state in which X is the winner, O is the winner or a draw occurs. Only one of them can be equal to one, the others must be zero. If the state is not a final state, i.e. the node is not a leaf, all of them would be zero.<br>\n",
    "</ol>"
   ]
  },
  {
   "cell_type": "code",
   "execution_count": 3,
   "metadata": {
    "collapsed": true
   },
   "outputs": [],
   "source": [
    "class Node(object):\n",
    "    \n",
    "    def __init__(self, nodeNumber, state, parent = None):\n",
    "        \n",
    "        self.nodeNumber = nodeNumber\n",
    "        self.state = state\n",
    "        self.parent = parent\n",
    "        self.children = []\n",
    "        self.x = 0\n",
    "        self.o = 0\n",
    "        self.draw = 0\n",
    "        \n",
    "        if get_winner(self.get_state()) == 1 or get_winner(self.get_state()) == -1 or not (0 in self.get_state()):\n",
    "            self.leaf = True\n",
    "        else:\n",
    "            self.leaf = False\n",
    "            \n",
    "        if(self.leaf == True):\n",
    "            if get_winner(self.get_state()) == 1:\n",
    "                self.x = 1\n",
    "            \n",
    "            if get_winner(self.get_state()) == -1:\n",
    "                self.o = 1\n",
    "            \n",
    "            if get_winner(self.get_state()) == 0:\n",
    "                self.draw = 1\n",
    "                    \n",
    "        \n",
    "    def get_nodeNumber(self):\n",
    "        return self.nodeNumber\n",
    "    \n",
    "    def get_state(self):\n",
    "        return self.state\n",
    "    \n",
    "    def get_parent(self):\n",
    "        return self.parent\n",
    "    \n",
    "    def add_children(self, newChild):\n",
    "        self.children.append(newChild)\n",
    "        \n",
    "    def get_children(self):\n",
    "        return self.children\n",
    "            \n",
    "            \n",
    "    def get_leaf(self):\n",
    "        return self.leaf\n",
    "            \n",
    "               \n",
    "    def get_x(self):\n",
    "        return self.x\n",
    "            \n",
    "                \n",
    "    def get_o(self):\n",
    "        return self.o\n",
    "                             \n",
    "                \n",
    "    def get_draw(self):\n",
    "        return self.draw"
   ]
  },
  {
   "cell_type": "markdown",
   "metadata": {},
   "source": [
    "Secondly, a representative class for trees. This class gets its root as an argument. The objects used in this class are as follows:\n",
    "<ol>\n",
    "1- The root, which is an empty board, in case of the entire tree.<br>\n",
    "2- nodes, a list of all nodes (as instances of the node class) in the tree.<br>\n",
    "3- Counters for all winning board states for both players 'X' and 'O', and also for all board states leading to a draw. If the new node added to the tree is a final state, one of these counters will be increased by one, according to the final result.<br>\n",
    "4- Number of all leaves in the tree.<br>\n",
    "5- The branching factor of the tree, which is the average number of children in the tree.<br>\n",
    "</ol>\n",
    "\n",
    "There are also some class methods, e.g. a method to calculate branching factor and another one to add a new node to the tree."
   ]
  },
  {
   "cell_type": "code",
   "execution_count": 4,
   "metadata": {
    "collapsed": true
   },
   "outputs": [],
   "source": [
    "class Tree(object):\n",
    "    \n",
    "    def __init__(self, root):\n",
    "        \n",
    "        self.root  = root\n",
    "        self.nodes = [root]\n",
    "        self.OWinsCounter = 0\n",
    "        self.XWinsCounter = 0\n",
    "        self.drawsCounter = 0\n",
    "        self.leaves = 0\n",
    "        self.branchingFactor = 0\n",
    "    \n",
    "    # calculating the branching factor    \n",
    "    def calculate_branching_factor(self):\n",
    "        for node in self.nodes:\n",
    "            self.branchingFactor += len(node.get_children())\n",
    "        self.branchingFactor /= self.get_size()\n",
    "        return self.branchingFactor\n",
    "    \n",
    "    # adding a new node to the tree\n",
    "    def add_node(self, node):\n",
    "        # first, add the node to the tree\n",
    "        self.nodes.append(node)\n",
    "        # if the new node is a leaf, increase the counter for the winner by one (in case of a draw, the counter for draws), \n",
    "        # otherwise leave it unchanged\n",
    "        self.OWinsCounter += node.get_o()\n",
    "        self.XWinsCounter += node.get_x()\n",
    "        self.drawsCounter += node.get_draw()\n",
    "        # increasing the leaves counter by one, if the node is a leaf\n",
    "        if(node.get_leaf()):\n",
    "            self.leaves += 1\n",
    "    \n",
    "    # a method which gets the node number and returns the node\n",
    "    def get_node(self,nodeNumber):\n",
    "        return self.nodes[nodeNumber]\n",
    "    \n",
    "    # getting all nodes\n",
    "    def get_all_nodes(self):\n",
    "        return self.nodes\n",
    "        \n",
    "    # getting the size of the tree, to find the number of nodes\n",
    "    def get_size(self):\n",
    "        return len(self.nodes)\n",
    "    \n",
    "    # getting the number of wins by O\n",
    "    def get_OWins(self):\n",
    "        return self.OWinsCounter\n",
    "    \n",
    "    # getting the number of wins by X\n",
    "    def get_XWins(self):\n",
    "        return self.XWinsCounter\n",
    "    \n",
    "    # getting the number of draws\n",
    "    def get_draws(self):\n",
    "        return self.drawsCounter\n",
    "    \n",
    "    # getting the number of leaves\n",
    "    def get_leaves(self):\n",
    "        return self.leaves"
   ]
  },
  {
   "cell_type": "markdown",
   "metadata": {},
   "source": [
    "In order to do further computations, some functions are defined out of the classes."
   ]
  },
  {
   "cell_type": "markdown",
   "metadata": {},
   "source": [
    "A function to check if the current move leads to one of the players wins the game:"
   ]
  },
  {
   "cell_type": "code",
   "execution_count": 5,
   "metadata": {
    "collapsed": true
   },
   "outputs": [],
   "source": [
    "def move_was_winning_move(S, p):\n",
    "    \n",
    "    # Check the horizontal lines to find a winner. Note that the sign of p (player) is the same with the sign of sum function\n",
    "    if np.max((np.sum(S, axis=0)) * p) == 3:\n",
    "        return True\n",
    "    # Check the vertical lines to find a winner\n",
    "    if np.max((np.sum(S, axis=1)) * p) == 3:\n",
    "        return True\n",
    "    # Check the diagonal lines to find a winner\n",
    "    if (np.sum(np.diag(S)) * p) == 3:\n",
    "        return True\n",
    "    if (np.sum(np.diag(np.rot90(S))) * p) == 3:\n",
    "        return True\n",
    "    return False"
   ]
  },
  {
   "cell_type": "markdown",
   "metadata": {},
   "source": [
    "For a leaf, the following function returns the winner: (Notes are similar to the function above)"
   ]
  },
  {
   "cell_type": "code",
   "execution_count": 6,
   "metadata": {
    "collapsed": true
   },
   "outputs": [],
   "source": [
    "def get_winner(S):\n",
    "    \n",
    "    if np.max((np.sum(S, axis=0))) == 3:\n",
    "        return 1\n",
    "    if np.min((np.sum(S, axis=0))) == -3:\n",
    "        return -1\n",
    "    if np.max((np.sum(S, axis=1))) == 3:\n",
    "        return 1\n",
    "    if np.min((np.sum(S, axis=1))) == -3:\n",
    "        return -1\n",
    "    if (np.sum(np.diag(S))) == 3:\n",
    "        return 1\n",
    "    if (np.sum(np.diag(S))) == -3:\n",
    "        return -1\n",
    "    if (np.sum(np.diag(np.rot90(S)))) == 3: \n",
    "        return 1\n",
    "    if (np.sum(np.diag(np.rot90(S)))) == -3:\n",
    "        return -1\n",
    "    return 0"
   ]
  },
  {
   "cell_type": "markdown",
   "metadata": {},
   "source": [
    "A function to build the complete tree; The arguments are as follows:\n",
    "<ol>\n",
    "1- The current player.<br>\n",
    "2- The current game board.<br>\n",
    "3- The current shape of the tree.<br>\n",
    "4- The current node.<br>\n",
    "</ol>\n",
    "\n",
    "The difference between the current game board and the current node is that the current game board is the state of the board and has nothing to do with the tree, while the current node is a node in the tree (an instance of the node class), which stores the current game board as its state."
   ]
  },
  {
   "cell_type": "code",
   "execution_count": 7,
   "metadata": {
    "collapsed": true
   },
   "outputs": [],
   "source": [
    "def buildTree(p, S, tree, parentNode):\n",
    "\n",
    "    # a list to keep all successors of the current node\n",
    "    succNodes = []\n",
    "    # if S is not terminal: switch player & compute successors\n",
    "    if not move_was_winning_move(S, p):\n",
    "        # finding all empty cells in the board, where the current player can place his new move \n",
    "        rs, cs = np.where(S==0)\n",
    "        # iterating over all empty cells\n",
    "        for j in range(rs.size):\n",
    "            # making a copy of the current state to be modified for making a successor\n",
    "            Ssucc = np.copy(S)\n",
    "            # at each iteration, one of the empty cells filled by the current player to produce a new board state for successor\n",
    "            Ssucc[rs[j],cs[j]] = p\n",
    "            # the number of the successor node, which contains the new board state, is equal to the size of the tree so far\n",
    "            newnode = tree.get_size()\n",
    "            # adding the number of the successor to the successors list\n",
    "            succNodes.append(newnode)\n",
    "            # creating the successor node\n",
    "            childnode = Node(nodeNumber=newnode, state=Ssucc, parent=parentNode)\n",
    "            # adding the successor node to the parent node\n",
    "            tree.get_node(parentNode.get_nodeNumber()).add_children(childnode.get_nodeNumber())\n",
    "            # adding the new node to the tree\n",
    "            tree.add_node(childnode)\n",
    "                \n",
    "    # continue recursively for each suucessor\n",
    "    p *= -1\n",
    "    for n in succNodes:\n",
    "        if tree.get_node(n).get_leaf() == False:\n",
    "            buildTree(p, tree.get_node(n).get_state(), tree, tree.get_node(n))"
   ]
  },
  {
   "cell_type": "markdown",
   "metadata": {},
   "source": [
    "Finally, in the main function the final results are shown:"
   ]
  },
  {
   "cell_type": "code",
   "execution_count": 8,
   "metadata": {
    "collapsed": false
   },
   "outputs": [
    {
     "name": "stdout",
     "output_type": "stream",
     "text": [
      "Number of nodes:\n",
      "549946\n",
      "\n",
      "\n",
      "Number of states where X wins:\n",
      "131184\n",
      "\n",
      "\n",
      "Number of states where O wins:\n",
      "77904\n",
      "\n",
      "\n",
      "Number of draws:\n",
      "46080\n",
      "\n",
      "\n",
      "Number of leaves:\n",
      "255168\n",
      "\n",
      "\n",
      "Branching factor:\n",
      "0.9999981816396519\n",
      "\n"
     ]
    }
   ],
   "source": [
    "if __name__ == \"__main__\":\n",
    "    # First board state, with all cells empty\n",
    "    S = np.zeros((3,3), dtype=int)\n",
    "    # player X is the one to start\n",
    "    p = 1\n",
    "    # creating the first node to keep the first board state\n",
    "    node = Node(nodeNumber=0, state=S)\n",
    "    # initialization of the tree\n",
    "    tree = Tree(node)\n",
    "    # building the entire tree recursively\n",
    "    buildTree(p, S, tree, tree.get_node(0))\n",
    "     \n",
    "    print(\"Number of nodes:\")\n",
    "    print(tree.get_size())\n",
    "    print()\n",
    "    print(\"\\nNumber of states where X wins:\")\n",
    "    print(tree.get_XWins())\n",
    "    print()\n",
    "    print(\"\\nNumber of states where O wins:\")\n",
    "    print(tree.get_OWins())\n",
    "    print()\n",
    "    print(\"\\nNumber of draws:\")\n",
    "    print(tree.get_draws())\n",
    "    print()\n",
    "    print(\"\\nNumber of leaves:\")\n",
    "    print(tree.get_leaves())\n",
    "    print()\n",
    "    print(\"\\nBranching factor:\")\n",
    "    print(tree.calculate_branching_factor())\n",
    "    print()"
   ]
  }
 ],
 "metadata": {
  "kernelspec": {
   "display_name": "Python 3",
   "language": "python",
   "name": "python3"
  },
  "language_info": {
   "codemirror_mode": {
    "name": "ipython",
    "version": 3
   },
   "file_extension": ".py",
   "mimetype": "text/x-python",
   "name": "python",
   "nbconvert_exporter": "python",
   "pygments_lexer": "ipython3",
   "version": "3.6.0"
  }
 },
 "nbformat": 4,
 "nbformat_minor": 2
}
